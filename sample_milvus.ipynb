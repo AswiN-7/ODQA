{
 "cells": [
  {
   "cell_type": "code",
   "execution_count": 17,
   "metadata": {},
   "outputs": [],
   "source": [
    "from pymilvus import Milvus, DataType\n",
    "\n",
    "from pymilvus import connections, FieldSchema, CollectionSchema, DataType, Collection, utility\n"
   ]
  },
  {
   "cell_type": "markdown",
   "metadata": {},
   "source": [
    "## sample milvus\n"
   ]
  },
  {
   "cell_type": "code",
   "execution_count": 18,
   "metadata": {},
   "outputs": [],
   "source": [
    "book_id = FieldSchema(\n",
    "  name=\"book_id\", \n",
    "  dtype=DataType.INT64, \n",
    "  is_primary=True, \n",
    ")\n",
    "word_count = FieldSchema(\n",
    "  name=\"word_count\", \n",
    "  dtype=DataType.INT64,  \n",
    ")\n",
    "book_intro = FieldSchema(\n",
    "  name=\"book_intro\", \n",
    "  dtype=DataType.FLOAT_VECTOR, \n",
    "  dim=2\n",
    ")\n",
    "schema = CollectionSchema(\n",
    "  fields=[book_id, word_count, book_intro], \n",
    "  description=\"Test book search\"\n",
    ")\n",
    "collection_name = \"book\""
   ]
  },
  {
   "cell_type": "code",
   "execution_count": 20,
   "metadata": {},
   "outputs": [],
   "source": [
    "connections.connect()\n"
   ]
  },
  {
   "cell_type": "code",
   "execution_count": 21,
   "metadata": {},
   "outputs": [],
   "source": [
    "from pymilvus import Collection\n",
    "collection = Collection(\n",
    "    name=collection_name, \n",
    "    schema=schema, \n",
    "    using='default', \n",
    "    shards_num=2,\n",
    "    consistency_level=\"Strong\"\n",
    "    )"
   ]
  },
  {
   "cell_type": "code",
   "execution_count": 22,
   "metadata": {},
   "outputs": [
    {
     "data": {
      "text/plain": [
       "True"
      ]
     },
     "execution_count": 22,
     "metadata": {},
     "output_type": "execute_result"
    }
   ],
   "source": [
    "from pymilvus import utility\n",
    "utility.has_collection(\"book\")"
   ]
  },
  {
   "cell_type": "code",
   "execution_count": 23,
   "metadata": {},
   "outputs": [],
   "source": [
    "from pymilvus import Collection\n",
    "collection = Collection(\"book\")"
   ]
  },
  {
   "cell_type": "code",
   "execution_count": null,
   "metadata": {},
   "outputs": [
    {
     "data": {
      "text/plain": [
       "<Collection>:\n",
       "-------------\n",
       "<name>: book\n",
       "<partitions>: [{\"name\": \"_default\", \"collection_name\": \"book\", \"description\": \"\"}]\n",
       "<description>: Test book search\n",
       "<schema>: {\n",
       "  auto_id: False\n",
       "  description: Test book search\n",
       "  fields: [{\n",
       "    name: book_id\n",
       "    description: \n",
       "    type: 5\n",
       "    is_primary: True\n",
       "    auto_id: False\n",
       "  }, {\n",
       "    name: word_count\n",
       "    description: \n",
       "    type: 5\n",
       "  }, {\n",
       "    name: book_intro\n",
       "    description: \n",
       "    type: 101\n",
       "    params: {'dim': 2}\n",
       "  }]\n",
       "}"
      ]
     },
     "metadata": {},
     "output_type": "display_data"
    }
   ],
   "source": [
    "collection"
   ]
  },
  {
   "cell_type": "code",
   "execution_count": null,
   "metadata": {},
   "outputs": [
    {
     "data": {
      "text/plain": [
       "<Collection>:\n",
       "-------------\n",
       "<name>: book\n",
       "<partitions>: [{\"name\": \"_default\", \"collection_name\": \"book\", \"description\": \"\"}]\n",
       "<description>: Test book search\n",
       "<schema>: {\n",
       "  auto_id: False\n",
       "  description: Test book search\n",
       "  fields: [{\n",
       "    name: book_id\n",
       "    description: \n",
       "    type: 5\n",
       "    is_primary: True\n",
       "    auto_id: False\n",
       "  }, {\n",
       "    name: word_count\n",
       "    description: \n",
       "    type: 5\n",
       "  }, {\n",
       "    name: book_intro\n",
       "    description: \n",
       "    type: 101\n",
       "    params: {'dim': 2}\n",
       "  }]\n",
       "}"
      ]
     },
     "metadata": {},
     "output_type": "display_data"
    }
   ],
   "source": [
    "collection"
   ]
  },
  {
   "cell_type": "code",
   "execution_count": null,
   "metadata": {},
   "outputs": [
    {
     "data": {
      "text/plain": [
       "['question_answering', 'book']"
      ]
     },
     "metadata": {},
     "output_type": "display_data"
    }
   ],
   "source": [
    "from pymilvus import utility\n",
    "utility.list_collections()"
   ]
  },
  {
   "cell_type": "code",
   "execution_count": 4,
   "metadata": {},
   "outputs": [],
   "source": [
    "import random\n",
    "data = [\n",
    "  [i for i in range(2000)],\n",
    "  [i for i in range(10000, 12000)],\n",
    "  [[random.random() for _ in range(2)] for _ in range(2000)],\n",
    "]"
   ]
  },
  {
   "cell_type": "code",
   "execution_count": 5,
   "metadata": {},
   "outputs": [
    {
     "data": {
      "text/plain": [
       "(0, 10000, [0.5357308618286432, 0.9081746943842883])"
      ]
     },
     "execution_count": 5,
     "metadata": {},
     "output_type": "execute_result"
    }
   ],
   "source": [
    "data[0][0], data[1][0], data[2][0]"
   ]
  },
  {
   "cell_type": "code",
   "execution_count": null,
   "metadata": {},
   "outputs": [],
   "source": [
    "from pymilvus import Collection\n",
    "collection = Collection(\"book\")      # Get an existing collection.\n",
    "mr = collection.insert(data)"
   ]
  },
  {
   "cell_type": "code",
   "execution_count": null,
   "metadata": {},
   "outputs": [
    {
     "data": {
      "text/plain": [
       "(insert count: 2000, delete count: 0, upsert count: 0, timestamp: 432813323722686467)"
      ]
     },
     "metadata": {},
     "output_type": "display_data"
    }
   ],
   "source": [
    "mr"
   ]
  },
  {
   "cell_type": "code",
   "execution_count": null,
   "metadata": {},
   "outputs": [
    {
     "data": {
      "text/plain": [
       "(insert count: 0, delete count: 2, upsert count: 0, timestamp: 432813348180983811)"
      ]
     },
     "metadata": {},
     "output_type": "display_data"
    }
   ],
   "source": [
    "expr = \"book_id in [0,1]\"\n",
    "collection.delete(expr)\n",
    "\n"
   ]
  },
  {
   "cell_type": "code",
   "execution_count": null,
   "metadata": {},
   "outputs": [],
   "source": [
    "search_params = {\"metric_type\": \"L2\", \"params\": {\"nprobe\": 10}}\n",
    "\n"
   ]
  },
  {
   "cell_type": "code",
   "execution_count": null,
   "metadata": {},
   "outputs": [],
   "source": [
    "collection.load()"
   ]
  },
  {
   "cell_type": "code",
   "execution_count": null,
   "metadata": {},
   "outputs": [],
   "source": [
    "results = collection.search(\n",
    "\tdata=[[0.1, 0.2]], \n",
    "\tanns_field=\"book_intro\", \n",
    "\tparam=search_params, \n",
    "\tlimit=10, \n",
    "\texpr=None,\n",
    "\tconsistency_level=\"Strong\"\n",
    ")"
   ]
  },
  {
   "cell_type": "code",
   "execution_count": null,
   "metadata": {},
   "outputs": [
    {
     "data": {
      "text/plain": [
       "[752, 1295, 1278, 413, 639, 293, 1429, 1916, 77, 909]"
      ]
     },
     "metadata": {},
     "output_type": "display_data"
    }
   ],
   "source": [
    "results[0].ids"
   ]
  },
  {
   "cell_type": "code",
   "execution_count": null,
   "metadata": {},
   "outputs": [
    {
     "data": {
      "text/plain": [
       "[1.5257634004228748e-05, 0.00041668565245345235, 0.0004344903863966465, 0.00044145507854409516, 0.0005489669856615365, 0.0008601932204328477, 0.0012088499497622252, 0.0013795846607536077, 0.0014143632724881172, 0.001415766542777419]"
      ]
     },
     "metadata": {},
     "output_type": "display_data"
    }
   ],
   "source": [
    "results[0].distances\n",
    "\n"
   ]
  },
  {
   "cell_type": "code",
   "execution_count": null,
   "metadata": {},
   "outputs": [],
   "source": [
    "search_param = {\n",
    "  \"data\": [[0.1, 0.2]],\n",
    "  \"anns_field\": \"book_intro\",\n",
    "  \"param\": {\"metric_type\": \"L2\", \"params\": {\"nprobe\": 10}},\n",
    "  \"limit\": 2,\n",
    "  \"expr\": \"word_count <= 11000\",\n",
    "}\n",
    "res = collection.search(**search_param)"
   ]
  },
  {
   "cell_type": "code",
   "execution_count": null,
   "metadata": {},
   "outputs": [],
   "source": [
    "res = collection.query(\n",
    "  expr = \"book_id in [2,4,6,8]\", \n",
    "  output_fields = [\"book_id\", \"book_intro\"],\n",
    "  consistency_level=\"Strong\"\n",
    ")"
   ]
  },
  {
   "cell_type": "code",
   "execution_count": null,
   "metadata": {},
   "outputs": [
    {
     "name": "stdout",
     "output_type": "stream",
     "text": [
      "{'book_id': 2, 'book_intro': [0.327368, 0.01204]}\n",
      "{'book_id': 4, 'book_intro': [0.076528, 0.280461]}\n",
      "{'book_id': 6, 'book_intro': [0.89448, 0.456958]}\n",
      "{'book_id': 8, 'book_intro': [0.504008, 0.190562]}\n"
     ]
    }
   ],
   "source": [
    "for r in res:\n",
    "    print(r)"
   ]
  },
  {
   "cell_type": "code",
   "execution_count": 6,
   "metadata": {},
   "outputs": [],
   "source": [
    "fp = r\"train_tam_qa.csv\""
   ]
  },
  {
   "cell_type": "code",
   "execution_count": 8,
   "metadata": {},
   "outputs": [
    {
     "name": "stdout",
     "output_type": "stream",
     "text": [
      "Collecting tqdm\n",
      "  Using cached tqdm-4.64.0-py2.py3-none-any.whl (78 kB)\n",
      "Installing collected packages: tqdm\n",
      "Successfully installed tqdm-4.64.0\n"
     ]
    }
   ],
   "source": [
    "!pip install tqdm"
   ]
  },
  {
   "cell_type": "code",
   "execution_count": 9,
   "metadata": {},
   "outputs": [
    {
     "name": "stderr",
     "output_type": "stream",
     "text": [
      "/home/cts-16/.local/lib/python3.8/site-packages/tqdm/auto.py:22: TqdmWarning: IProgress not found. Please update jupyter and ipywidgets. See https://ipywidgets.readthedocs.io/en/stable/user_install.html\n",
      "  from .autonotebook import tqdm as notebook_tqdm\n"
     ]
    }
   ],
   "source": [
    "import pandas as pd\n",
    "from tqdm.auto import tqdm\n",
    "import numpy"
   ]
  },
  {
   "cell_type": "code",
   "execution_count": 13,
   "metadata": {},
   "outputs": [
    {
     "name": "stdout",
     "output_type": "stream",
     "text": [
      "Collecting datasets\n",
      "  Downloading datasets-2.1.0-py3-none-any.whl (325 kB)\n",
      "\u001b[K     |████████████████████████████████| 325 kB 3.7 MB/s eta 0:00:01\n",
      "\u001b[?25hCollecting dill\n",
      "  Downloading dill-0.3.4-py2.py3-none-any.whl (86 kB)\n",
      "\u001b[K     |████████████████████████████████| 86 kB 9.6 MB/s  eta 0:00:01\n",
      "\u001b[?25hCollecting aiohttp\n",
      "  Downloading aiohttp-3.8.1-cp38-cp38-manylinux_2_5_x86_64.manylinux1_x86_64.manylinux_2_12_x86_64.manylinux2010_x86_64.whl (1.3 MB)\n",
      "\u001b[K     |████████████████████████████████| 1.3 MB 11.3 MB/s eta 0:00:01\n",
      "\u001b[?25hRequirement already satisfied: packaging in /home/cts-16/.local/lib/python3.8/site-packages (from datasets) (21.3)\n",
      "Requirement already satisfied: tqdm>=4.62.1 in /home/cts-16/.local/lib/python3.8/site-packages (from datasets) (4.64.0)\n",
      "Collecting fsspec[http]>=2021.05.0\n",
      "  Downloading fsspec-2022.3.0-py3-none-any.whl (136 kB)\n",
      "\u001b[K     |████████████████████████████████| 136 kB 12.0 MB/s eta 0:00:01\n",
      "\u001b[?25hCollecting huggingface-hub<1.0.0,>=0.1.0\n",
      "  Using cached huggingface_hub-0.5.1-py3-none-any.whl (77 kB)\n",
      "Collecting multiprocess\n",
      "  Downloading multiprocess-0.70.12.2-py38-none-any.whl (128 kB)\n",
      "\u001b[K     |████████████████████████████████| 128 kB 11.4 MB/s eta 0:00:01\n",
      "\u001b[?25hCollecting xxhash\n",
      "  Downloading xxhash-3.0.0-cp38-cp38-manylinux_2_17_x86_64.manylinux2014_x86_64.whl (212 kB)\n",
      "\u001b[K     |████████████████████████████████| 212 kB 11.1 MB/s eta 0:00:01\n",
      "\u001b[?25hCollecting responses<0.19\n",
      "  Downloading responses-0.18.0-py3-none-any.whl (38 kB)\n",
      "Requirement already satisfied: pandas in /home/cts-16/.local/lib/python3.8/site-packages (from datasets) (1.4.2)\n",
      "Requirement already satisfied: numpy>=1.17 in /home/cts-16/.local/lib/python3.8/site-packages (from datasets) (1.22.3)\n",
      "Requirement already satisfied: requests>=2.19.0 in /usr/lib/python3/dist-packages (from datasets) (2.22.0)\n",
      "Collecting pyarrow>=5.0.0\n",
      "  Downloading pyarrow-7.0.0-cp38-cp38-manylinux_2_17_x86_64.manylinux2014_x86_64.whl (26.7 MB)\n",
      "\u001b[K     |████████████████████████████████| 26.7 MB 12.3 MB/s eta 0:00:01\n",
      "\u001b[?25hCollecting async-timeout<5.0,>=4.0.0a3\n",
      "  Downloading async_timeout-4.0.2-py3-none-any.whl (5.8 kB)\n",
      "Collecting yarl<2.0,>=1.0\n",
      "  Downloading yarl-1.7.2-cp38-cp38-manylinux_2_5_x86_64.manylinux1_x86_64.manylinux_2_12_x86_64.manylinux2010_x86_64.whl (308 kB)\n",
      "\u001b[K     |████████████████████████████████| 308 kB 11.2 MB/s eta 0:00:01\n",
      "\u001b[?25hCollecting frozenlist>=1.1.1\n",
      "  Downloading frozenlist-1.3.0-cp38-cp38-manylinux_2_5_x86_64.manylinux1_x86_64.manylinux_2_17_x86_64.manylinux2014_x86_64.whl (158 kB)\n",
      "\u001b[K     |████████████████████████████████| 158 kB 11.2 MB/s eta 0:00:01\n",
      "\u001b[?25hCollecting aiosignal>=1.1.2\n",
      "  Downloading aiosignal-1.2.0-py3-none-any.whl (8.2 kB)\n",
      "Collecting charset-normalizer<3.0,>=2.0\n",
      "  Using cached charset_normalizer-2.0.12-py3-none-any.whl (39 kB)\n",
      "Collecting multidict<7.0,>=4.5\n",
      "  Downloading multidict-6.0.2-cp38-cp38-manylinux_2_17_x86_64.manylinux2014_x86_64.whl (121 kB)\n",
      "\u001b[K     |████████████████████████████████| 121 kB 12.6 MB/s eta 0:00:01\n",
      "\u001b[?25hCollecting attrs>=17.3.0\n",
      "  Downloading attrs-21.4.0-py2.py3-none-any.whl (60 kB)\n",
      "\u001b[K     |████████████████████████████████| 60 kB 9.5 MB/s  eta 0:00:01\n",
      "\u001b[?25hRequirement already satisfied: pyparsing!=3.0.5,>=2.0.2 in /home/cts-16/.local/lib/python3.8/site-packages (from packaging->datasets) (3.0.8)\n",
      "Requirement already satisfied: pyyaml in /usr/lib/python3/dist-packages (from huggingface-hub<1.0.0,>=0.1.0->datasets) (5.3.1)\n",
      "Collecting typing-extensions>=3.7.4.3\n",
      "  Using cached typing_extensions-4.2.0-py3-none-any.whl (24 kB)\n",
      "Requirement already satisfied: filelock in /usr/lib/python3/dist-packages (from huggingface-hub<1.0.0,>=0.1.0->datasets) (3.0.12)\n",
      "Collecting urllib3>=1.25.10\n",
      "  Using cached urllib3-1.26.9-py2.py3-none-any.whl (138 kB)\n",
      "Requirement already satisfied: pytz>=2020.1 in /home/cts-16/.local/lib/python3.8/site-packages (from pandas->datasets) (2022.1)\n",
      "Requirement already satisfied: python-dateutil>=2.8.1 in /home/cts-16/.local/lib/python3.8/site-packages (from pandas->datasets) (2.8.2)\n",
      "Requirement already satisfied: idna>=2.0 in /usr/lib/python3/dist-packages (from yarl<2.0,>=1.0->aiohttp->datasets) (2.8)\n",
      "Requirement already satisfied: six>=1.5 in /usr/lib/python3/dist-packages (from python-dateutil>=2.8.1->pandas->datasets) (1.14.0)\n",
      "Installing collected packages: dill, async-timeout, multidict, yarl, frozenlist, aiosignal, charset-normalizer, attrs, aiohttp, fsspec, typing-extensions, huggingface-hub, multiprocess, xxhash, urllib3, responses, pyarrow, datasets\n",
      "Successfully installed aiohttp-3.8.1 aiosignal-1.2.0 async-timeout-4.0.2 attrs-21.4.0 charset-normalizer-2.0.12 datasets-2.1.0 dill-0.3.4 frozenlist-1.3.0 fsspec-2022.3.0 huggingface-hub-0.5.1 multidict-6.0.2 multiprocess-0.70.12.2 pyarrow-7.0.0 responses-0.18.0 typing-extensions-4.2.0 urllib3-1.26.9 xxhash-3.0.0 yarl-1.7.2\n"
     ]
    }
   ],
   "source": [
    "!pip install datasets"
   ]
  },
  {
   "cell_type": "code",
   "execution_count": 15,
   "metadata": {},
   "outputs": [],
   "source": [
    "from datasets import Dataset"
   ]
  },
  {
   "cell_type": "code",
   "execution_count": 17,
   "metadata": {},
   "outputs": [],
   "source": []
  },
  {
   "cell_type": "code",
   "execution_count": 10,
   "metadata": {},
   "outputs": [],
   "source": [
    "with open(fp, \"r\") as read_file:\n",
    "  qa = pd.read_json(read_file)"
   ]
  },
  {
   "cell_type": "code",
   "execution_count": null,
   "metadata": {},
   "outputs": [],
   "source": []
  },
  {
   "cell_type": "code",
   "execution_count": 20,
   "metadata": {},
   "outputs": [
    {
     "data": {
      "text/plain": [
       "{'context': 'ஒரு சாதாரண வளர்ந்த மனிதனுடைய எலும்புக்கூடு பின்வரும் 206 (மார்பெலும்பு மூன்று பகுதிகளாகக் கருதப்பட்டால் 208) எண்ணிக்கையான எலும்புகளைக் கொண்டிருக்கும். இந்த எண்ணிக்கை உடற்கூட்டியல் வேறுபாடுகளைப் பொறுத்து மாறுபடக்கூடும். எடுத்துக்காட்டாக, மிகக் குறைந்த எண்ணிக்கையான மனிதர்களில், ஒரு மேலதிக விலா எலும்பு (கழுத்துவில்) அல்லது ஒரு மேலதிகமான கீழ் முதுகெலும்பு காணப்படுவதுண்டு; இணைந்த சில எலும்புகளைத் தனி எலும்பாகக் கருதாவிடின், ஐந்து இணைந்த திருவெலும்பு; மூன்று (3 - 5) குயிலலகு எலும்புகள் சேர்ந்து 26 எண்ணிக்கையிலான முதுகெலும்புகள் 33 ஆகக் கருதப்படலாம்.\\nமனித மண்டையோட்டில் 22 எலும்புகள் (காதுச் சிற்றென்புகளைத் தவிர) உள்ளன; இவை எட்டு மண்டையறை (cranium) எலும்புகளாகவும் 14 முக எலும்புகளாகவும் (facial bones) பிரிக்கப்பட்டுள்ளன. (தடித்த எண்கள் அருகிலுள்ள படத்தில் காணும் எண்களைக் குறிக்கின்றன.)\\n\\n\\n\\nமண்டையறை எலும்புகள் (8)\\n 1 நுதலெலும்பு (frontal bone) \\n 2 சுவரெலும்பு (parietal bone) (2)\\n 3 கடைநுதலெலும்பு (temporal bone) (2)\\n 4 பிடர் எலும்பு (occipital bone)\\n ஆப்புரு எலும்பு (sphenoid bone)\\n நெய்யரியெலும்பு (ethmoid bone)\\nமுக எலும்புகள் (14)\\n 7 கீழ்த்தாடை எலும்பு (mandible)\\n 6 மேற்றாடை எலும்பு (maxilla) (2)\\n அண்ணவெலும்பு (palatine bone) (2)\\n 5 கன்ன எலும்பு (zygomatic bone) (2)\\n 9 நாசி எலும்பு (nasal bone) (2)\\n கண்ணீர் எலும்பு (lacrimal bone) (2)\\n மூக்குச் சுவர் எலும்பு (vomer)\\n கீழ் மூக்குத் தடுப்பெலும்பு (inferior nasal conchae) (2)\\nநடுக்காதுகளில் (6):\\n சம்மட்டியுரு (malleus)\\n பட்டையுரு (incus) \\n ஏந்தியுரு (stapes)\\nதொண்டையில் (1):\\n தொண்டை எலும்பு (நாவடி எலும்பு) (hyoid)\\nதோள் பட்டையில் (4):\\n 25. காறை எலும்பு (clavicle)\\n 29. தோள் எலும்பு (scapula)\\nமார்புக்கூட்டில் thorax(25): \\n 10. மார்பெலும்பு (sternum) (1)\\n மேலும் மூன்று என்புகளாகக் கருதப்படலாம்: பிடியுரு (manubrium), உடல் மார்பெலும்பு (body of sternum), வாள்வடிவ நீட்டம் (xiphoid process)\\n 28. விலா எலும்புகள் (rib) (24)\\n முதுகெலும்புத் தூண் (vertebral column) (33): \\n 8. கழுத்து முள்ளெலும்புகள் (cervical vertebra) (7)\\n மார்பு முள்ளெலும்புகள் (thoracic vertebra) (12)\\n 14. நாரிமுள்ளெலும்புகள் (lumbar vertebra) (5)\\n 16. திரிகம் (திருவெலும்பு) (sacrum)\\n வால் எலும்பு (குயிலலகு) (coccyx)\\nமேற்கைகளில் (arm) (1): \\n 11. புய எலும்பு (மேல்கை எலும்பு) (humerus)\\n 26. புய எலும்புப் புடைப்பு (மேல்கை எலும்புப் புடைப்பு) (condyles of humerus)\\nமுன்கைகளில் (forearm) (4): \\n 12. அரந்தி (ulna) (2)\\n 13. ஆரை எலும்பு (radius) (2)\\n 27. ஆரை எலும்புத் தலை (head of radius)\\nகைகளில் (hand) (54): \\n மணிக்கட்டுகள் (carpal):\\n படகெலும்பு (scaphoid) (2)\\n பிறைக்குழி எலும்பு (lunate) (2)\\n முப்பட்டை எலும்புtriquetrum) (2)\\n பட்டாணி எலும்பு (pisiform) (2)\\n சரிவக எலும்பு (trapezium) (2)\\n நாற்புறவுரு எலும்பு (trapezoid) (2)\\n தலையுரு எலும்பு (capitate) (2)\\n கொக்கி எலும்பு (hamate) (2)\\n அங்கை முன்னெலும்புகள் (அனுமணிக்கட்டு எலும்புகள்) (metacarpal): (5 × 2)\\n விரலெலும்புகள் (phalange): \\n அண்மை விரலெலும்புகள் (proximal phalanges) (5 × 2)\\n நடு விரலெலும்புகள் (Intermediate phalanges) (4 × 2)\\n தொலை விரலெலும்புகள் (distal phalanges) (5 × 2)\\nஇடுப்பு வளையம் (pelvis) (2):\\n 15. இடுப்பெலும்பு (ilium) மற்றும் கீழ் இடுப்பெலும்பு (ischium)\\n\\n\\nகால்கள் (leg) (8): \\n 18. தொடையெலும்பு (femur) (2)\\n 17. இடுப்பு மூட்டு (hip joint) (மூட்டு, எலும்பல்ல) \\n 22. பெரிய தொடையெலும்புக் கொண்டை (greater trochanter of femur)\\n 23. தொடையெலும்புப் புடைப்பு (condyles of femur)\\n 19. சில்லெலும்பு (patella) (2)\\n 20. கால் முன்னெலும்பு (கணைக்காலலுள்ளெலும்பு) (tibia) (2)\\n 21. சிம்பு எலும்பு (கணைக்கால்வெளியெலும்பு) (fibula) (2)\\nகாலடிகளில் (52): \\n கணுக்காலெலும்புகள் (tarsal):\\n குதிகால் (calcaneus) (2)\\n முட்டி (talus) (2)\\n படகுரு எலும்பு (navicular bone) (2)\\n உள் ஆப்புவடிவ எலும்பு (2) \\n இடை ஆப்புவடிவ எலும்பு (2)\\n வெளி ஆப்புவடிவ எலும்பு (2)\\n கனசதுர எலும்பு (cuboidal bone) (2)\\n அனுகணுக்காலெலும்புகள் (metatarsal) (5 × 2)\\n விரலெலும்புகள் (phalange):\\n அண்மை விரலெலும்புகள் (proximal phalanges) (5 × 2)\\n நடு விரலெலும்புகள் (intermediate phalanges) (4 × 2)\\n தொலை விரலெலும்புகள் (distal phalanges) (5 × 2)\\n குழந்தை எலும்புக்கூடு \\nகுழந்தைகளின் எலும்புக்கூடுகளில் கீழ் வரும் எலும்புகள் மேலதிகமாக உள்ளன:\\n மண்டையறை மற்றும் மண்டையோட்டு எலும்புகள் (21), இவை ஒன்றாகி மண்டையறையை உருவாக்குகின்றன.\\n திரிக முள்ளெலும்புகள் (sacral vertebrae) (4 or 5), வளர்ந்தோரில் இவை ஒன்றாகி திரிகத்தை உருவாக்குகின்றன \\n coccygeal vertebrae (3 to 5), வளர்ந்தோரில் இவை ஒன்றாகி வாலெலும்பை உருவாக்குகின்றன\\n இடுப்பெலும்பு, கீழ் இடுப்பெலும்பு மற்றும் பொச்செலும்பு (pubis), என்பவை வளர்ந்தோரில் ஒன்றாகி இடுப்பெலும்பை உருவாக்குகின்றன\\n\\nபகுப்பு:மனித உடற்கூற்றியல்\\nபகுப்பு:எலும்புகள்',\n",
       " 'question': 'மனித உடலில் எத்தனை எலும்புகள் உள்ளன?',\n",
       " 'answer_text': '206',\n",
       " 'answer_start': 53,\n",
       " '__index_level_0__': 0}"
      ]
     },
     "execution_count": 20,
     "metadata": {},
     "output_type": "execute_result"
    }
   ],
   "source": [
    "dataset = Dataset.from_pandas(qa)\n",
    "dataset[0]"
   ]
  },
  {
   "cell_type": "code",
   "execution_count": 11,
   "metadata": {},
   "outputs": [
    {
     "data": {
      "text/html": [
       "<div>\n",
       "<style scoped>\n",
       "    .dataframe tbody tr th:only-of-type {\n",
       "        vertical-align: middle;\n",
       "    }\n",
       "\n",
       "    .dataframe tbody tr th {\n",
       "        vertical-align: top;\n",
       "    }\n",
       "\n",
       "    .dataframe thead th {\n",
       "        text-align: right;\n",
       "    }\n",
       "</style>\n",
       "<table border=\"1\" class=\"dataframe\">\n",
       "  <thead>\n",
       "    <tr style=\"text-align: right;\">\n",
       "      <th></th>\n",
       "      <th>context</th>\n",
       "      <th>question</th>\n",
       "      <th>answer_text</th>\n",
       "      <th>answer_start</th>\n",
       "    </tr>\n",
       "  </thead>\n",
       "  <tbody>\n",
       "    <tr>\n",
       "      <th>0</th>\n",
       "      <td>ஒரு சாதாரண வளர்ந்த மனிதனுடைய எலும்புக்கூடு பின...</td>\n",
       "      <td>மனித உடலில் எத்தனை எலும்புகள் உள்ளன?</td>\n",
       "      <td>206</td>\n",
       "      <td>53</td>\n",
       "    </tr>\n",
       "    <tr>\n",
       "      <th>1</th>\n",
       "      <td>காளிதாசன் (தேவநாகரி: कालिदास) சமஸ்கிருத இலக்கி...</td>\n",
       "      <td>காளிதாசன் எங்கு பிறந்தார்?</td>\n",
       "      <td>காசுமீரில்</td>\n",
       "      <td>2358</td>\n",
       "    </tr>\n",
       "    <tr>\n",
       "      <th>2</th>\n",
       "      <td>சர் அலெக்ஸாண்டர் ஃபிளெமிங் (Sir Alexander Flem...</td>\n",
       "      <td>பென்சிலின் கண்டுபிடித்தவர் யார்?</td>\n",
       "      <td>சர் அலெக்ஸாண்டர் ஃபிளெமிங்</td>\n",
       "      <td>0</td>\n",
       "    </tr>\n",
       "    <tr>\n",
       "      <th>3</th>\n",
       "      <td>குழந்தையின் அழுகையை  நிறுத்தவும், தூங்க வைக்கவ...</td>\n",
       "      <td>தமிழ்நாட்டில் குழந்தைகளை தூங்க வைக்க பாடும் பா...</td>\n",
       "      <td>தாலாட்டு</td>\n",
       "      <td>68</td>\n",
       "    </tr>\n",
       "    <tr>\n",
       "      <th>4</th>\n",
       "      <td>சூரியக் குடும்பம் \\nசூரியக் குடும்பம் (Solar S...</td>\n",
       "      <td>பூமியின் அருகில் உள்ள விண்மீன் எது?</td>\n",
       "      <td>சூரியனும்</td>\n",
       "      <td>585</td>\n",
       "    </tr>\n",
       "    <tr>\n",
       "      <th>...</th>\n",
       "      <td>...</td>\n",
       "      <td>...</td>\n",
       "      <td>...</td>\n",
       "      <td>...</td>\n",
       "    </tr>\n",
       "    <tr>\n",
       "      <th>363</th>\n",
       "      <td>இந்திய ரூபாய் நாணயங்கள் (Coins of the Indian r...</td>\n",
       "      <td>இந்திய நாணய சட்டம் எந்த ஆண்டு இயற்றப்பட்டது?</td>\n",
       "      <td>1955 ஆம் ஆண்டு செப்டம்பர்</td>\n",
       "      <td>5154</td>\n",
       "    </tr>\n",
       "    <tr>\n",
       "      <th>364</th>\n",
       "      <td>ஜெர்மனி (Germany, [ˈdʒɜːmənɪ]), அல்லது ஜெர்மன்...</td>\n",
       "      <td>ஜெர்மனியில் மிகப்பெரிய மதம் எது?</td>\n",
       "      <td>கிறித்தவத்தை</td>\n",
       "      <td>30737</td>\n",
       "    </tr>\n",
       "    <tr>\n",
       "      <th>365</th>\n",
       "      <td>கெய்ரோ (Cairo, அரபு மொழியில்: القاهرة - அல்-கா...</td>\n",
       "      <td>கெய்ரோ நகரத்தின் பரப்பளவு என்ன?</td>\n",
       "      <td>453 square kilometers</td>\n",
       "      <td>1507</td>\n",
       "    </tr>\n",
       "    <tr>\n",
       "      <th>366</th>\n",
       "      <td>வாழைப்பழம் (banana) என்பது தாவரவியலில் சதைப்பற...</td>\n",
       "      <td>மிகவும் அரிதான வாழைப்பழம் என்றால் என்ன?</td>\n",
       "      <td>சிங்கன்</td>\n",
       "      <td>7688</td>\n",
       "    </tr>\n",
       "    <tr>\n",
       "      <th>367</th>\n",
       "      <td>டாக்கா (Bengali: ঢাকা) வங்காளதேசத்தின் தலைநகரம...</td>\n",
       "      <td>டாக்கா பல்கலைக்கழகம் எந்த ஆண்டு தொடங்கப்பட்டது?</td>\n",
       "      <td>1921</td>\n",
       "      <td>7355</td>\n",
       "    </tr>\n",
       "  </tbody>\n",
       "</table>\n",
       "<p>368 rows × 4 columns</p>\n",
       "</div>"
      ],
      "text/plain": [
       "                                               context  \\\n",
       "0    ஒரு சாதாரண வளர்ந்த மனிதனுடைய எலும்புக்கூடு பின...   \n",
       "1    காளிதாசன் (தேவநாகரி: कालिदास) சமஸ்கிருத இலக்கி...   \n",
       "2    சர் அலெக்ஸாண்டர் ஃபிளெமிங் (Sir Alexander Flem...   \n",
       "3    குழந்தையின் அழுகையை  நிறுத்தவும், தூங்க வைக்கவ...   \n",
       "4    சூரியக் குடும்பம் \\nசூரியக் குடும்பம் (Solar S...   \n",
       "..                                                 ...   \n",
       "363  இந்திய ரூபாய் நாணயங்கள் (Coins of the Indian r...   \n",
       "364  ஜெர்மனி (Germany, [ˈdʒɜːmənɪ]), அல்லது ஜெர்மன்...   \n",
       "365  கெய்ரோ (Cairo, அரபு மொழியில்: القاهرة - அல்-கா...   \n",
       "366  வாழைப்பழம் (banana) என்பது தாவரவியலில் சதைப்பற...   \n",
       "367  டாக்கா (Bengali: ঢাকা) வங்காளதேசத்தின் தலைநகரம...   \n",
       "\n",
       "                                              question  \\\n",
       "0                 மனித உடலில் எத்தனை எலும்புகள் உள்ளன?   \n",
       "1                           காளிதாசன் எங்கு பிறந்தார்?   \n",
       "2                     பென்சிலின் கண்டுபிடித்தவர் யார்?   \n",
       "3    தமிழ்நாட்டில் குழந்தைகளை தூங்க வைக்க பாடும் பா...   \n",
       "4                  பூமியின் அருகில் உள்ள விண்மீன் எது?   \n",
       "..                                                 ...   \n",
       "363       இந்திய நாணய சட்டம் எந்த ஆண்டு இயற்றப்பட்டது?   \n",
       "364                   ஜெர்மனியில் மிகப்பெரிய மதம் எது?   \n",
       "365                    கெய்ரோ நகரத்தின் பரப்பளவு என்ன?   \n",
       "366            மிகவும் அரிதான வாழைப்பழம் என்றால் என்ன?   \n",
       "367    டாக்கா பல்கலைக்கழகம் எந்த ஆண்டு தொடங்கப்பட்டது?   \n",
       "\n",
       "                    answer_text  answer_start  \n",
       "0                           206            53  \n",
       "1                    காசுமீரில்          2358  \n",
       "2    சர் அலெக்ஸாண்டர் ஃபிளெமிங்             0  \n",
       "3                      தாலாட்டு            68  \n",
       "4                     சூரியனும்           585  \n",
       "..                          ...           ...  \n",
       "363   1955 ஆம் ஆண்டு செப்டம்பர்          5154  \n",
       "364                கிறித்தவத்தை         30737  \n",
       "365       453 square kilometers          1507  \n",
       "366                     சிங்கன்          7688  \n",
       "367                        1921          7355  \n",
       "\n",
       "[368 rows x 4 columns]"
      ]
     },
     "execution_count": 11,
     "metadata": {},
     "output_type": "execute_result"
    }
   ],
   "source": [
    "qa"
   ]
  },
  {
   "cell_type": "code",
   "execution_count": 21,
   "metadata": {},
   "outputs": [],
   "source": [
    "qa.to_json(\"tamil_qa.json\", force_ascii=False)"
   ]
  },
  {
   "cell_type": "code",
   "execution_count": 23,
   "metadata": {},
   "outputs": [
    {
     "name": "stdout",
     "output_type": "stream",
     "text": [
      "Collecting transformers\n",
      "  Using cached transformers-4.18.0-py3-none-any.whl (4.0 MB)\n",
      "Requirement already satisfied: requests in /usr/lib/python3/dist-packages (from transformers) (2.22.0)\n",
      "Collecting sacremoses\n",
      "  Using cached sacremoses-0.0.49-py3-none-any.whl (895 kB)\n",
      "Requirement already satisfied: filelock in /usr/lib/python3/dist-packages (from transformers) (3.0.12)\n",
      "Requirement already satisfied: pyyaml>=5.1 in /usr/lib/python3/dist-packages (from transformers) (5.3.1)\n",
      "Requirement already satisfied: huggingface-hub<1.0,>=0.1.0 in /home/cts-16/.local/lib/python3.8/site-packages (from transformers) (0.5.1)\n",
      "Collecting regex!=2019.12.17\n",
      "  Using cached regex-2022.4.24-cp38-cp38-manylinux_2_17_x86_64.manylinux2014_x86_64.whl (764 kB)\n",
      "Requirement already satisfied: tqdm>=4.27 in /home/cts-16/.local/lib/python3.8/site-packages (from transformers) (4.64.0)\n",
      "Requirement already satisfied: packaging>=20.0 in /home/cts-16/.local/lib/python3.8/site-packages (from transformers) (21.3)\n",
      "Collecting tokenizers!=0.11.3,<0.13,>=0.11.1\n",
      "  Using cached tokenizers-0.12.1-cp38-cp38-manylinux_2_12_x86_64.manylinux2010_x86_64.whl (6.6 MB)\n",
      "Requirement already satisfied: numpy>=1.17 in /home/cts-16/.local/lib/python3.8/site-packages (from transformers) (1.22.3)\n",
      "Requirement already satisfied: six in /usr/lib/python3/dist-packages (from sacremoses->transformers) (1.14.0)\n",
      "Collecting joblib\n",
      "  Using cached joblib-1.1.0-py2.py3-none-any.whl (306 kB)\n",
      "Requirement already satisfied: click in /usr/lib/python3/dist-packages (from sacremoses->transformers) (7.0)\n",
      "Requirement already satisfied: typing-extensions>=3.7.4.3 in /home/cts-16/.local/lib/python3.8/site-packages (from huggingface-hub<1.0,>=0.1.0->transformers) (4.2.0)\n",
      "Requirement already satisfied: pyparsing!=3.0.5,>=2.0.2 in /home/cts-16/.local/lib/python3.8/site-packages (from packaging>=20.0->transformers) (3.0.8)\n",
      "Installing collected packages: joblib, regex, sacremoses, tokenizers, transformers\n",
      "Successfully installed joblib-1.1.0 regex-2022.4.24 sacremoses-0.0.49 tokenizers-0.12.1 transformers-4.18.0\n"
     ]
    }
   ],
   "source": [
    "!pip install transformers"
   ]
  },
  {
   "cell_type": "markdown",
   "metadata": {},
   "source": [
    "# mysql python"
   ]
  },
  {
   "cell_type": "code",
   "execution_count": 1,
   "metadata": {},
   "outputs": [
    {
     "name": "stdout",
     "output_type": "stream",
     "text": [
      "Collecting pymysql\n",
      "  Downloading PyMySQL-1.0.2-py3-none-any.whl (43 kB)\n",
      "Installing collected packages: pymysql\n",
      "Successfully installed pymysql-1.0.2\n"
     ]
    }
   ],
   "source": [
    "!pip install pymysql"
   ]
  },
  {
   "cell_type": "code",
   "execution_count": 2,
   "metadata": {},
   "outputs": [],
   "source": [
    "import pymysql"
   ]
  },
  {
   "cell_type": "code",
   "execution_count": 4,
   "metadata": {},
   "outputs": [],
   "source": [
    "conn = pymysql.connect(host='localhost', user='aswin', port=3306, password='Mysql@123', database='ODQA',local_infile=True)\n",
    "cursor = conn.cursor()"
   ]
  },
  {
   "cell_type": "code",
   "execution_count": 5,
   "metadata": {},
   "outputs": [
    {
     "name": "stdout",
     "output_type": "stream",
     "text": [
      "create MySQL table successfully!\n"
     ]
    }
   ],
   "source": [
    "TABLE_NAME = 'context'\n",
    "#Deleting previouslny stored table for clean run\n",
    "drop_table = \"DROP TABLE IF EXISTS \" + TABLE_NAME + \";\"\n",
    "cursor.execute(drop_table)\n",
    "\n",
    "try:\n",
    "    sql = \"CREATE TABLE if not exists \" + TABLE_NAME + \" (id INT, context TEXT, PRIMARY KEY (ID));\"\n",
    "    sql = f\"\"\"\n",
    "                CREATE TABLE if not exists {TABLE_NAME} (\n",
    "                    id int(10) NOT NULL AUTO_INCREMENT,\n",
    "                    context TEXT COLLATE utf8_bin NOT NULL, \n",
    "                    PRIMARY KEY (id)\n",
    "                ) ENGINE=InnoDB DEFAULT CHARSET=utf8mb4 COLLATE=utf8mb4_bin\n",
    "                AUTO_INCREMENT=1 ;\"\"\"\n",
    "    cursor.execute(sql)\n",
    "    print(\"create MySQL table successfully!\")\n",
    "except Exception as e:\n",
    "    print(\"can't create a MySQL table: \", e)"
   ]
  },
  {
   "cell_type": "code",
   "execution_count": 75,
   "metadata": {},
   "outputs": [],
   "source": [
    "rows = cursor.fetchall()\n",
    "for row in rows:\n",
    "    # print(f'{row[0]} {row[1]} {row[2]}')\n",
    "    print(row)\n"
   ]
  },
  {
   "cell_type": "code",
   "execution_count": 76,
   "metadata": {},
   "outputs": [
    {
     "data": {
      "text/plain": [
       "0"
      ]
     },
     "execution_count": 76,
     "metadata": {},
     "output_type": "execute_result"
    }
   ],
   "source": [
    "sql_query = \"select * from context;\"\n",
    "cursor.execute(sql_query)\n"
   ]
  },
  {
   "cell_type": "code",
   "execution_count": 60,
   "metadata": {},
   "outputs": [],
   "source": [
    "rows = cursor.fetchall()"
   ]
  },
  {
   "cell_type": "code",
   "execution_count": 61,
   "metadata": {},
   "outputs": [
    {
     "name": "stdout",
     "output_type": "stream",
     "text": [
      "(('1', 'sample'), ('1', 'ஒரு சாதாரண வளர்ந்த மனிதனுடைய எலும்புக்கூடு பின்வரும் 206 (மார்பெலும்பு மூன்று பகுதிகளாகக் கருதப்பட்டால் 208) எண்ணிக்கையான எலும்புகளைக் கொண்டிருக்கும். இந்த எண்ணிக்கை உடற்கூட்டியல் வேறுபாடுகளைப் பொறுத்து மாறுபடக்கூடும். எடுத்துக்காட்டாக, மிகக் குறைந்த எண்ணிக்கையான மனிதர்களில், ஒரு மேலதிக விலா எலும்பு (கழுத்துவில்) அல்லது ஒரு மேலதிகமான கீழ் முதுகெலும்பு காணப்படுவதுண்டு; இணைந்த சில எலும்புகளைத் தனி எலும்பாகக் கருதாவிடின், ஐந்து இணைந்த திருவெலும்பு; மூன்று (3 - 5) குயிலலகு எலும்புகள் சேர்ந்து 26 எண்ணிக்கையிலான முதுகெலும்புகள் 33 ஆகக் கருதப்படலாம்.\\nமனித மண்டையோட்டில் 22 எலும்புகள் (காதுச் சிற்றென்புகளைத் தவிர) உள்ளன; இவை எட்டு மண்டையறை (cranium) எலும்புகளாகவும் 14 முக எலும்புகளாகவும் (facial bones) பிரிக்கப்பட்டுள்ளன. (தடித்த எண்கள் அருகிலுள்ள படத்தில் காணும் எண்களைக் குறிக்கின்றன.)\\n\\n\\n\\nமண்டையறை எலும்புகள் (8)\\n 1 நுதலெலும்பு (frontal bone) \\n 2 சுவரெலும்பு (parietal bone) (2)\\n 3 கடைநுதலெலும்பு (temporal bone) (2)\\n 4 பிடர் எலும்பு (occipital bone)\\n ஆப்புரு எலும்பு (sphenoid bone)\\n நெய்யரியெலும்பு (ethmoid bone)\\nமுக எலும்புகள் (14)\\n 7 கீழ்த்தாடை எலும்பு (mandible)\\n 6 மேற்றாடை எலும்பு (maxilla) (2)\\n அண்ணவெலும்பு (palatine bone) (2)\\n 5 கன்ன எலும்பு (zygomatic bone) (2)\\n 9 நாசி எலும்பு (nasal bone) (2)\\n கண்ணீர் எலும்பு (lacrimal bone) (2)\\n மூக்குச் சுவர் எலும்பு (vomer)\\n கீழ் மூக்குத் தடுப்பெலும்பு (inferior nasal conchae) (2)\\nநடுக்காதுகளில் (6):\\n சம்மட்டியுரு (malleus)\\n பட்டையுரு (incus) \\n ஏந்தியுரு (stapes)\\nதொண்டையில் (1):\\n தொண்டை எலும்பு (நாவடி எலும்பு) (hyoid)\\nதோள் பட்டையில் (4):\\n 25. காறை எலும்பு (clavicle)\\n 29. தோள் எலும்பு (scapula)\\nமார்புக்கூட்டில் thorax(25): \\n 10. மார்பெலும்பு (sternum) (1)\\n மேலும் மூன்று என்புகளாகக் கருதப்படலாம்: பிடியுரு (manubrium), உடல் மார்பெலும்பு (body of sternum), வாள்வடிவ நீட்டம் (xiphoid process)\\n 28. விலா எலும்புகள் (rib) (24)\\n முதுகெலும்புத் தூண் (vertebral column) (33): \\n 8. கழுத்து முள்ளெலும்புகள் (cervical vertebra) (7)\\n மார்பு முள்ளெலும்புகள் (thoracic vertebra) (12)\\n 14. நாரிமுள்ளெலும்புகள் (lumbar vertebra) (5)\\n 16. திரிகம் (திருவெலும்பு) (sacrum)\\n வால் எலும்பு (குயிலலகு) (coccyx)\\nமேற்கைகளில் (arm) (1): \\n 11. புய எலும்பு (மேல்கை எலும்பு) (humerus)\\n 26. புய எலும்புப் புடைப்பு (மேல்கை எலும்புப் புடைப்பு) (condyles of humerus)\\nமுன்கைகளில் (forearm) (4): \\n 12. அரந்தி (ulna) (2)\\n 13. ஆரை எலும்பு (radius) (2)\\n 27. ஆரை எலும்புத் தலை (head of radius)\\nகைகளில் (hand) (54): \\n மணிக்கட்டுகள் (carpal):\\n படகெலும்பு (scaphoid) (2)\\n பிறைக்குழி எலும்பு (lunate) (2)\\n முப்பட்டை எலும்புtriquetrum) (2)\\n பட்டாணி எலும்பு (pisiform) (2)\\n சரிவக எலும்பு (trapezium) (2)\\n நாற்புறவுரு எலும்பு (trapezoid) (2)\\n தலையுரு எலும்பு (capitate) (2)\\n கொக்கி எலும்பு (hamate) (2)\\n அங்கை முன்னெலும்புகள் (அனுமணிக்கட்டு எலும்புகள்) (metacarpal): (5 × 2)\\n விரலெலும்புகள் (phalange): \\n அண்மை விரலெலும்புகள் (proximal phalanges) (5 × 2)\\n நடு விரலெலும்புகள் (Intermediate phalanges) (4 × 2)\\n தொலை விரலெலும்புகள் (distal phalanges) (5 × 2)\\nஇடுப்பு வளையம் (pelvis) (2):\\n 15. இடுப்பெலும்பு (ilium) மற்றும் கீழ் இடுப்பெலும்பு (ischium)\\n\\n\\nகால்கள் (leg) (8): \\n 18. தொடையெலும்பு (femur) (2)\\n 17. இடுப்பு மூட்டு (hip joint) (மூட்டு, எலும்பல்ல) \\n 22. பெரிய தொடையெலும்புக் கொண்டை (greater trochanter of femur)\\n 23. தொடையெலும்புப் புடைப்பு (condyles of femur)\\n 19. சில்லெலும்பு (patella) (2)\\n 20. கால் முன்னெலும்பு (கணைக்காலலுள்ளெலும்பு) (tibia) (2)\\n 21. சிம்பு எலும்பு (கணைக்கால்வெளியெலும்பு) (fibula) (2)\\nகாலடிகளில் (52): \\n கணுக்காலெலும்புகள் (tarsal):\\n குதிகால் (calcaneus) (2)\\n முட்டி (talus) (2)\\n படகுரு எலும்பு (navicular bone) (2)\\n உள் ஆப்புவடிவ எலும்பு (2) \\n இடை ஆப்புவடிவ எலும்பு (2)\\n வெளி ஆப்புவடிவ எலும்பு (2)\\n கனசதுர எலும்பு (cuboidal bone) (2)\\n அனுகணுக்காலெலும்புகள் (metatarsal) (5 × 2)\\n விரலெலும்புகள் (phalange):\\n அண்மை விரலெலும்புகள் (proximal phalanges) (5 × 2)\\n நடு விரலெலும்புகள் (intermediate phalanges) (4 × 2)\\n தொலை விரலெலும்புகள் (distal phalanges) (5 × 2)\\n குழந்தை எலும்புக்கூடு \\nகுழந்தைகளின் எலும்புக்கூடுகளில் கீழ் வரும் எலும்புகள் மேலதிகமாக உள்ளன:\\n மண்டையறை மற்றும் மண்டையோட்டு எலும்புகள் (21), இவை ஒன்றாகி மண்டையறையை உருவாக்குகின்றன.\\n திரிக முள்ளெலும்புகள் (sacral vertebrae) (4 or 5), வளர்ந்தோரில் இவை ஒன்றாகி திரிகத்தை உருவாக்குகின்றன \\n coccygeal vertebrae (3 to 5), வளர்ந்தோரில் இவை ஒன்றாகி வாலெலும்பை உருவாக்குகின்றன\\n இடுப்பெலும்பு, கீழ் இடுப்பெலும்பு மற்றும் பொச்செலும்பு (pubis), என்பவை வளர்ந்தோரில் ஒன்றாகி இடுப்பெலும்பை உருவாக்குகின்றன\\n\\nபகுப்பு:மனித உடற்கூற்றியல்\\nபகுப்பு:எலும்புகள்'))\n",
      "(('1', 'sample'), ('1', 'ஒரு சாதாரண வளர்ந்த மனிதனுடைய எலும்புக்கூடு பின்வரும் 206 (மார்பெலும்பு மூன்று பகுதிகளாகக் கருதப்பட்டால் 208) எண்ணிக்கையான எலும்புகளைக் கொண்டிருக்கும். இந்த எண்ணிக்கை உடற்கூட்டியல் வேறுபாடுகளைப் பொறுத்து மாறுபடக்கூடும். எடுத்துக்காட்டாக, மிகக் குறைந்த எண்ணிக்கையான மனிதர்களில், ஒரு மேலதிக விலா எலும்பு (கழுத்துவில்) அல்லது ஒரு மேலதிகமான கீழ் முதுகெலும்பு காணப்படுவதுண்டு; இணைந்த சில எலும்புகளைத் தனி எலும்பாகக் கருதாவிடின், ஐந்து இணைந்த திருவெலும்பு; மூன்று (3 - 5) குயிலலகு எலும்புகள் சேர்ந்து 26 எண்ணிக்கையிலான முதுகெலும்புகள் 33 ஆகக் கருதப்படலாம்.\\nமனித மண்டையோட்டில் 22 எலும்புகள் (காதுச் சிற்றென்புகளைத் தவிர) உள்ளன; இவை எட்டு மண்டையறை (cranium) எலும்புகளாகவும் 14 முக எலும்புகளாகவும் (facial bones) பிரிக்கப்பட்டுள்ளன. (தடித்த எண்கள் அருகிலுள்ள படத்தில் காணும் எண்களைக் குறிக்கின்றன.)\\n\\n\\n\\nமண்டையறை எலும்புகள் (8)\\n 1 நுதலெலும்பு (frontal bone) \\n 2 சுவரெலும்பு (parietal bone) (2)\\n 3 கடைநுதலெலும்பு (temporal bone) (2)\\n 4 பிடர் எலும்பு (occipital bone)\\n ஆப்புரு எலும்பு (sphenoid bone)\\n நெய்யரியெலும்பு (ethmoid bone)\\nமுக எலும்புகள் (14)\\n 7 கீழ்த்தாடை எலும்பு (mandible)\\n 6 மேற்றாடை எலும்பு (maxilla) (2)\\n அண்ணவெலும்பு (palatine bone) (2)\\n 5 கன்ன எலும்பு (zygomatic bone) (2)\\n 9 நாசி எலும்பு (nasal bone) (2)\\n கண்ணீர் எலும்பு (lacrimal bone) (2)\\n மூக்குச் சுவர் எலும்பு (vomer)\\n கீழ் மூக்குத் தடுப்பெலும்பு (inferior nasal conchae) (2)\\nநடுக்காதுகளில் (6):\\n சம்மட்டியுரு (malleus)\\n பட்டையுரு (incus) \\n ஏந்தியுரு (stapes)\\nதொண்டையில் (1):\\n தொண்டை எலும்பு (நாவடி எலும்பு) (hyoid)\\nதோள் பட்டையில் (4):\\n 25. காறை எலும்பு (clavicle)\\n 29. தோள் எலும்பு (scapula)\\nமார்புக்கூட்டில் thorax(25): \\n 10. மார்பெலும்பு (sternum) (1)\\n மேலும் மூன்று என்புகளாகக் கருதப்படலாம்: பிடியுரு (manubrium), உடல் மார்பெலும்பு (body of sternum), வாள்வடிவ நீட்டம் (xiphoid process)\\n 28. விலா எலும்புகள் (rib) (24)\\n முதுகெலும்புத் தூண் (vertebral column) (33): \\n 8. கழுத்து முள்ளெலும்புகள் (cervical vertebra) (7)\\n மார்பு முள்ளெலும்புகள் (thoracic vertebra) (12)\\n 14. நாரிமுள்ளெலும்புகள் (lumbar vertebra) (5)\\n 16. திரிகம் (திருவெலும்பு) (sacrum)\\n வால் எலும்பு (குயிலலகு) (coccyx)\\nமேற்கைகளில் (arm) (1): \\n 11. புய எலும்பு (மேல்கை எலும்பு) (humerus)\\n 26. புய எலும்புப் புடைப்பு (மேல்கை எலும்புப் புடைப்பு) (condyles of humerus)\\nமுன்கைகளில் (forearm) (4): \\n 12. அரந்தி (ulna) (2)\\n 13. ஆரை எலும்பு (radius) (2)\\n 27. ஆரை எலும்புத் தலை (head of radius)\\nகைகளில் (hand) (54): \\n மணிக்கட்டுகள் (carpal):\\n படகெலும்பு (scaphoid) (2)\\n பிறைக்குழி எலும்பு (lunate) (2)\\n முப்பட்டை எலும்புtriquetrum) (2)\\n பட்டாணி எலும்பு (pisiform) (2)\\n சரிவக எலும்பு (trapezium) (2)\\n நாற்புறவுரு எலும்பு (trapezoid) (2)\\n தலையுரு எலும்பு (capitate) (2)\\n கொக்கி எலும்பு (hamate) (2)\\n அங்கை முன்னெலும்புகள் (அனுமணிக்கட்டு எலும்புகள்) (metacarpal): (5 × 2)\\n விரலெலும்புகள் (phalange): \\n அண்மை விரலெலும்புகள் (proximal phalanges) (5 × 2)\\n நடு விரலெலும்புகள் (Intermediate phalanges) (4 × 2)\\n தொலை விரலெலும்புகள் (distal phalanges) (5 × 2)\\nஇடுப்பு வளையம் (pelvis) (2):\\n 15. இடுப்பெலும்பு (ilium) மற்றும் கீழ் இடுப்பெலும்பு (ischium)\\n\\n\\nகால்கள் (leg) (8): \\n 18. தொடையெலும்பு (femur) (2)\\n 17. இடுப்பு மூட்டு (hip joint) (மூட்டு, எலும்பல்ல) \\n 22. பெரிய தொடையெலும்புக் கொண்டை (greater trochanter of femur)\\n 23. தொடையெலும்புப் புடைப்பு (condyles of femur)\\n 19. சில்லெலும்பு (patella) (2)\\n 20. கால் முன்னெலும்பு (கணைக்காலலுள்ளெலும்பு) (tibia) (2)\\n 21. சிம்பு எலும்பு (கணைக்கால்வெளியெலும்பு) (fibula) (2)\\nகாலடிகளில் (52): \\n கணுக்காலெலும்புகள் (tarsal):\\n குதிகால் (calcaneus) (2)\\n முட்டி (talus) (2)\\n படகுரு எலும்பு (navicular bone) (2)\\n உள் ஆப்புவடிவ எலும்பு (2) \\n இடை ஆப்புவடிவ எலும்பு (2)\\n வெளி ஆப்புவடிவ எலும்பு (2)\\n கனசதுர எலும்பு (cuboidal bone) (2)\\n அனுகணுக்காலெலும்புகள் (metatarsal) (5 × 2)\\n விரலெலும்புகள் (phalange):\\n அண்மை விரலெலும்புகள் (proximal phalanges) (5 × 2)\\n நடு விரலெலும்புகள் (intermediate phalanges) (4 × 2)\\n தொலை விரலெலும்புகள் (distal phalanges) (5 × 2)\\n குழந்தை எலும்புக்கூடு \\nகுழந்தைகளின் எலும்புக்கூடுகளில் கீழ் வரும் எலும்புகள் மேலதிகமாக உள்ளன:\\n மண்டையறை மற்றும் மண்டையோட்டு எலும்புகள் (21), இவை ஒன்றாகி மண்டையறையை உருவாக்குகின்றன.\\n திரிக முள்ளெலும்புகள் (sacral vertebrae) (4 or 5), வளர்ந்தோரில் இவை ஒன்றாகி திரிகத்தை உருவாக்குகின்றன \\n coccygeal vertebrae (3 to 5), வளர்ந்தோரில் இவை ஒன்றாகி வாலெலும்பை உருவாக்குகின்றன\\n இடுப்பெலும்பு, கீழ் இடுப்பெலும்பு மற்றும் பொச்செலும்பு (pubis), என்பவை வளர்ந்தோரில் ஒன்றாகி இடுப்பெலும்பை உருவாக்குகின்றன\\n\\nபகுப்பு:மனித உடற்கூற்றியல்\\nபகுப்பு:எலும்புகள்'))\n"
     ]
    }
   ],
   "source": [
    "for row in rows:\n",
    "    print(rows)"
   ]
  },
  {
   "cell_type": "code",
   "execution_count": 58,
   "metadata": {},
   "outputs": [],
   "source": [
    "desc = cursor.description"
   ]
  },
  {
   "cell_type": "code",
   "execution_count": 59,
   "metadata": {},
   "outputs": [
    {
     "data": {
      "text/plain": [
       "(('id', 252, None, 262140, 262140, 0, True),\n",
       " ('context', 252, None, 262140, 262140, 0, True))"
      ]
     },
     "execution_count": 59,
     "metadata": {},
     "output_type": "execute_result"
    }
   ],
   "source": [
    "desc"
   ]
  },
  {
   "cell_type": "code",
   "execution_count": 34,
   "metadata": {},
   "outputs": [
    {
     "name": "stdout",
     "output_type": "stream",
     "text": [
      "odqa\n"
     ]
    }
   ],
   "source": [
    "import importlib\n",
    "importlib.reload(odqa_mysql)\n",
    "import odqa_mysql\n"
   ]
  },
  {
   "cell_type": "code",
   "execution_count": 35,
   "metadata": {},
   "outputs": [
    {
     "name": "stdout",
     "output_type": "stream",
     "text": [
      "context table successfully!\n"
     ]
    }
   ],
   "source": [
    "odqa_mysql.create_table()"
   ]
  },
  {
   "cell_type": "code",
   "execution_count": 38,
   "metadata": {},
   "outputs": [],
   "source": [
    "q = \"show tables\"\n",
    "q = \"SELECT DATABASE();\"\n",
    "q = \"select count(id) from context\"\n",
    "res = odqa_mysql.execute_query(q)"
   ]
  },
  {
   "cell_type": "code",
   "execution_count": 41,
   "metadata": {},
   "outputs": [
    {
     "data": {
      "text/plain": [
       "0"
      ]
     },
     "execution_count": 41,
     "metadata": {},
     "output_type": "execute_result"
    }
   ],
   "source": [
    "res[0][0]"
   ]
  },
  {
   "cell_type": "code",
   "execution_count": 42,
   "metadata": {},
   "outputs": [
    {
     "data": {
      "text/plain": [
       "1"
      ]
     },
     "execution_count": 42,
     "metadata": {},
     "output_type": "execute_result"
    }
   ],
   "source": [
    "cursor.execute(q)"
   ]
  },
  {
   "cell_type": "code",
   "execution_count": 43,
   "metadata": {},
   "outputs": [],
   "source": [
    "res = cursor.fetchone()"
   ]
  },
  {
   "cell_type": "code",
   "execution_count": 44,
   "metadata": {},
   "outputs": [
    {
     "data": {
      "text/plain": [
       "(0,)"
      ]
     },
     "execution_count": 44,
     "metadata": {},
     "output_type": "execute_result"
    }
   ],
   "source": [
    "res"
   ]
  },
  {
   "cell_type": "code",
   "execution_count": 6,
   "metadata": {},
   "outputs": [],
   "source": [
    "id1 = 1\n",
    "context = \"ஒரு சாதாரண வளர்ந்த மனிதனுடைய எலும்புக்கூடு பின்வரும் 206 (மார்பெலும்பு மூன்று பகுதிகளாகக் கருதப்பட்டால் 208) எண்ணிக்கையான எலும்புகளைக் கொண்டிருக்கும். இந்த எண்ணிக்கை உடற்கூட்டியல் வேறுபாடுகளைப் பொறுத்து மாறுபடக்கூடும். எடுத்துக்காட்டாக, மிகக் குறைந்த எண்ணிக்கையான மனிதர்களில், ஒரு மேலதிக விலா எலும்பு (கழுத்துவில்) அல்லது ஒரு மேலதிகமான கீழ் முதுகெலும்பு காணப்படுவதுண்டு; இணைந்த சில எலும்புகளைத் தனி எலும்பாகக் கருதாவிடின், ஐந்து இணைந்த திருவெலும்பு; மூன்று (3 - 5) குயிலலகு எலும்புகள் சேர்ந்து 26 எண்ணிக்கையிலான முதுகெலும்புகள் 33 ஆகக் கருதப்படலாம்.\\nமனித மண்டையோட்டில் 22 எலும்புகள் (காதுச் சிற்றென்புகளைத் தவிர) உள்ளன; இவை எட்டு மண்டையறை (cranium) எலும்புகளாகவும் 14 முக எலும்புகளாகவும் (facial bones) பிரிக்கப்பட்டுள்ளன. (தடித்த எண்கள் அருகிலுள்ள படத்தில் காணும் எண்களைக் குறிக்கின்றன.)\\n\\n\\n\\nமண்டையறை எலும்புகள் (8)\\n 1 நுதலெலும்பு (frontal bone) \\n 2 சுவரெலும்பு (parietal bone) (2)\\n 3 கடைநுதலெலும்பு (temporal bone) (2)\\n 4 பிடர் எலும்பு (occipital bone)\\n ஆப்புரு எலும்பு (sphenoid bone)\\n நெய்யரியெலும்பு (ethmoid bone)\\nமுக எலும்புகள் (14)\\n 7 கீழ்த்தாடை எலும்பு (mandible)\\n 6 மேற்றாடை எலும்பு (maxilla) (2)\\n அண்ணவெலும்பு (palatine bone) (2)\\n 5 கன்ன எலும்பு (zygomatic bone) (2)\\n 9 நாசி எலும்பு (nasal bone) (2)\\n கண்ணீர் எலும்பு (lacrimal bone) (2)\\n மூக்குச் சுவர் எலும்பு (vomer)\\n கீழ் மூக்குத் தடுப்பெலும்பு (inferior nasal conchae) (2)\\nநடுக்காதுகளில் (6):\\n சம்மட்டியுரு (malleus)\\n பட்டையுரு (incus) \\n ஏந்தியுரு (stapes)\\nதொண்டையில் (1):\\n தொண்டை எலும்பு (நாவடி எலும்பு) (hyoid)\\nதோள் பட்டையில் (4):\\n 25. காறை எலும்பு (clavicle)\\n 29. தோள் எலும்பு (scapula)\\nமார்புக்கூட்டில் thorax(25): \\n 10. மார்பெலும்பு (sternum) (1)\\n மேலும் மூன்று என்புகளாகக் கருதப்படலாம்: பிடியுரு (manubrium), உடல் மார்பெலும்பு (body of sternum), வாள்வடிவ நீட்டம் (xiphoid process)\\n 28. விலா எலும்புகள் (rib) (24)\\n முதுகெலும்புத் தூண் (vertebral column) (33): \\n 8. கழுத்து முள்ளெலும்புகள் (cervical vertebra) (7)\\n மார்பு முள்ளெலும்புகள் (thoracic vertebra) (12)\\n 14. நாரிமுள்ளெலும்புகள் (lumbar vertebra) (5)\\n 16. திரிகம் (திருவெலும்பு) (sacrum)\\n வால் எலும்பு (குயிலலகு) (coccyx)\\nமேற்கைகளில் (arm) (1): \\n 11. புய எலும்பு (மேல்கை எலும்பு) (humerus)\\n 26. புய எலும்புப் புடைப்பு (மேல்கை எலும்புப் புடைப்பு) (condyles of humerus)\\nமுன்கைகளில் (forearm) (4): \\n 12. அரந்தி (ulna) (2)\\n 13. ஆரை எலும்பு (radius) (2)\\n 27. ஆரை எலும்புத் தலை (head of radius)\\nகைகளில் (hand) (54): \\n மணிக்கட்டுகள் (carpal):\\n படகெலும்பு (scaphoid) (2)\\n பிறைக்குழி எலும்பு (lunate) (2)\\n முப்பட்டை எலும்புtriquetrum) (2)\\n பட்டாணி எலும்பு (pisiform) (2)\\n சரிவக எலும்பு (trapezium) (2)\\n நாற்புறவுரு எலும்பு (trapezoid) (2)\\n தலையுரு எலும்பு (capitate) (2)\\n கொக்கி எலும்பு (hamate) (2)\\n அங்கை முன்னெலும்புகள் (அனுமணிக்கட்டு எலும்புகள்) (metacarpal): (5 × 2)\\n விரலெலும்புகள் (phalange): \\n அண்மை விரலெலும்புகள் (proximal phalanges) (5 × 2)\\n நடு விரலெலும்புகள் (Intermediate phalanges) (4 × 2)\\n தொலை விரலெலும்புகள் (distal phalanges) (5 × 2)\\nஇடுப்பு வளையம் (pelvis) (2):\\n 15. இடுப்பெலும்பு (ilium) மற்றும் கீழ் இடுப்பெலும்பு (ischium)\\n\\n\\nகால்கள் (leg) (8): \\n 18. தொடையெலும்பு (femur) (2)\\n 17. இடுப்பு மூட்டு (hip joint) (மூட்டு, எலும்பல்ல) \\n 22. பெரிய தொடையெலும்புக் கொண்டை (greater trochanter of femur)\\n 23. தொடையெலும்புப் புடைப்பு (condyles of femur)\\n 19. சில்லெலும்பு (patella) (2)\\n 20. கால் முன்னெலும்பு (கணைக்காலலுள்ளெலும்பு) (tibia) (2)\\n 21. சிம்பு எலும்பு (கணைக்கால்வெளியெலும்பு) (fibula) (2)\\nகாலடிகளில் (52): \\n கணுக்காலெலும்புகள் (tarsal):\\n குதிகால் (calcaneus) (2)\\n முட்டி (talus) (2)\\n படகுரு எலும்பு (navicular bone) (2)\\n உள் ஆப்புவடிவ எலும்பு (2) \\n இடை ஆப்புவடிவ எலும்பு (2)\\n வெளி ஆப்புவடிவ எலும்பு (2)\\n கனசதுர எலும்பு (cuboidal bone) (2)\\n அனுகணுக்காலெலும்புகள் (metatarsal) (5 × 2)\\n விரலெலும்புகள் (phalange):\\n அண்மை விரலெலும்புகள் (proximal phalanges) (5 × 2)\\n நடு விரலெலும்புகள் (intermediate phalanges) (4 × 2)\\n தொலை விரலெலும்புகள் (distal phalanges) (5 × 2)\\n குழந்தை எலும்புக்கூடு \\nகுழந்தைகளின் எலும்புக்கூடுகளில் கீழ் வரும் எலும்புகள் மேலதிகமாக உள்ளன:\\n மண்டையறை மற்றும் மண்டையோட்டு எலும்புகள் (21), இவை ஒன்றாகி மண்டையறையை உருவாக்குகின்றன.\\n திரிக முள்ளெலும்புகள் (sacral vertebrae) (4 or 5), வளர்ந்தோரில் இவை ஒன்றாகி திரிகத்தை உருவாக்குகின்றன \\n coccygeal vertebrae (3 to 5), வளர்ந்தோரில் இவை ஒன்றாகி வாலெலும்பை உருவாக்குகின்றன\\n இடுப்பெலும்பு, கீழ் இடுப்பெலும்பு மற்றும் பொச்செலும்பு (pubis), என்பவை வளர்ந்தோரில் ஒன்றாகி இடுப்பெலும்பை உருவாக்குகின்றன\\n\\nபகுப்பு:மனித உடற்கூற்றியல்\\nபகுப்பு:எலும்புகள்\"\n",
    "# context = \"sample\""
   ]
  },
  {
   "cell_type": "code",
   "execution_count": 7,
   "metadata": {},
   "outputs": [],
   "source": [
    "# q = (\"INSERT INTO context values(%i, %s)\" , (int(id1), context))\n",
    "# q"
   ]
  },
  {
   "cell_type": "code",
   "execution_count": 8,
   "metadata": {},
   "outputs": [
    {
     "name": "stdout",
     "output_type": "stream",
     "text": [
      "new city inserted\n"
     ]
    }
   ],
   "source": [
    "# cursor.execute(f'INSERT INTO context values(%i, %s)' , (int(id1), context)) \n",
    "# cursor.execute(f'INSERT INTO context values(1, context)') \n",
    "sql = \"INSERT INTO context (context) VALUES (%s)\"\n",
    "cursor.execute(sql, (context))\n",
    "\n",
    "conn.commit()\n",
    "print('new city inserted')"
   ]
  },
  {
   "cell_type": "code",
   "execution_count": 10,
   "metadata": {},
   "outputs": [],
   "source": [
    "q = f\"select context from context\"\n",
    "res = cursor.execute(q)"
   ]
  },
  {
   "cell_type": "code",
   "execution_count": 11,
   "metadata": {},
   "outputs": [],
   "source": [
    "res = cursor.fetchall()"
   ]
  },
  {
   "cell_type": "code",
   "execution_count": 12,
   "metadata": {},
   "outputs": [
    {
     "data": {
      "text/plain": [
       "(('ஒரு சாதாரண வளர்ந்த மனிதனுடைய எலும்புக்கூடு பின்வரும் 206 (மார்பெலும்பு மூன்று பகுதிகளாகக் கருதப்பட்டால் 208) எண்ணிக்கையான எலும்புகளைக் கொண்டிருக்கும். இந்த எண்ணிக்கை உடற்கூட்டியல் வேறுபாடுகளைப் பொறுத்து மாறுபடக்கூடும். எடுத்துக்காட்டாக, மிகக் குறைந்த எண்ணிக்கையான மனிதர்களில், ஒரு மேலதிக விலா எலும்பு (கழுத்துவில்) அல்லது ஒரு மேலதிகமான கீழ் முதுகெலும்பு காணப்படுவதுண்டு; இணைந்த சில எலும்புகளைத் தனி எலும்பாகக் கருதாவிடின், ஐந்து இணைந்த திருவெலும்பு; மூன்று (3 - 5) குயிலலகு எலும்புகள் சேர்ந்து 26 எண்ணிக்கையிலான முதுகெலும்புகள் 33 ஆகக் கருதப்படலாம்.\\nமனித மண்டையோட்டில் 22 எலும்புகள் (காதுச் சிற்றென்புகளைத் தவிர) உள்ளன; இவை எட்டு மண்டையறை (cranium) எலும்புகளாகவும் 14 முக எலும்புகளாகவும் (facial bones) பிரிக்கப்பட்டுள்ளன. (தடித்த எண்கள் அருகிலுள்ள படத்தில் காணும் எண்களைக் குறிக்கின்றன.)\\n\\n\\n\\nமண்டையறை எலும்புகள் (8)\\n 1 நுதலெலும்பு (frontal bone) \\n 2 சுவரெலும்பு (parietal bone) (2)\\n 3 கடைநுதலெலும்பு (temporal bone) (2)\\n 4 பிடர் எலும்பு (occipital bone)\\n ஆப்புரு எலும்பு (sphenoid bone)\\n நெய்யரியெலும்பு (ethmoid bone)\\nமுக எலும்புகள் (14)\\n 7 கீழ்த்தாடை எலும்பு (mandible)\\n 6 மேற்றாடை எலும்பு (maxilla) (2)\\n அண்ணவெலும்பு (palatine bone) (2)\\n 5 கன்ன எலும்பு (zygomatic bone) (2)\\n 9 நாசி எலும்பு (nasal bone) (2)\\n கண்ணீர் எலும்பு (lacrimal bone) (2)\\n மூக்குச் சுவர் எலும்பு (vomer)\\n கீழ் மூக்குத் தடுப்பெலும்பு (inferior nasal conchae) (2)\\nநடுக்காதுகளில் (6):\\n சம்மட்டியுரு (malleus)\\n பட்டையுரு (incus) \\n ஏந்தியுரு (stapes)\\nதொண்டையில் (1):\\n தொண்டை எலும்பு (நாவடி எலும்பு) (hyoid)\\nதோள் பட்டையில் (4):\\n 25. காறை எலும்பு (clavicle)\\n 29. தோள் எலும்பு (scapula)\\nமார்புக்கூட்டில் thorax(25): \\n 10. மார்பெலும்பு (sternum) (1)\\n மேலும் மூன்று என்புகளாகக் கருதப்படலாம்: பிடியுரு (manubrium), உடல் மார்பெலும்பு (body of sternum), வாள்வடிவ நீட்டம் (xiphoid process)\\n 28. விலா எலும்புகள் (rib) (24)\\n முதுகெலும்புத் தூண் (vertebral column) (33): \\n 8. கழுத்து முள்ளெலும்புகள் (cervical vertebra) (7)\\n மார்பு முள்ளெலும்புகள் (thoracic vertebra) (12)\\n 14. நாரிமுள்ளெலும்புகள் (lumbar vertebra) (5)\\n 16. திரிகம் (திருவெலும்பு) (sacrum)\\n வால் எலும்பு (குயிலலகு) (coccyx)\\nமேற்கைகளில் (arm) (1): \\n 11. புய எலும்பு (மேல்கை எலும்பு) (humerus)\\n 26. புய எலும்புப் புடைப்பு (மேல்கை எலும்புப் புடைப்பு) (condyles of humerus)\\nமுன்கைகளில் (forearm) (4): \\n 12. அரந்தி (ulna) (2)\\n 13. ஆரை எலும்பு (radius) (2)\\n 27. ஆரை எலும்புத் தலை (head of radius)\\nகைகளில் (hand) (54): \\n மணிக்கட்டுகள் (carpal):\\n படகெலும்பு (scaphoid) (2)\\n பிறைக்குழி எலும்பு (lunate) (2)\\n முப்பட்டை எலும்புtriquetrum) (2)\\n பட்டாணி எலும்பு (pisiform) (2)\\n சரிவக எலும்பு (trapezium) (2)\\n நாற்புறவுரு எலும்பு (trapezoid) (2)\\n தலையுரு எலும்பு (capitate) (2)\\n கொக்கி எலும்பு (hamate) (2)\\n அங்கை முன்னெலும்புகள் (அனுமணிக்கட்டு எலும்புகள்) (metacarpal): (5 × 2)\\n விரலெலும்புகள் (phalange): \\n அண்மை விரலெலும்புகள் (proximal phalanges) (5 × 2)\\n நடு விரலெலும்புகள் (Intermediate phalanges) (4 × 2)\\n தொலை விரலெலும்புகள் (distal phalanges) (5 × 2)\\nஇடுப்பு வளையம் (pelvis) (2):\\n 15. இடுப்பெலும்பு (ilium) மற்றும் கீழ் இடுப்பெலும்பு (ischium)\\n\\n\\nகால்கள் (leg) (8): \\n 18. தொடையெலும்பு (femur) (2)\\n 17. இடுப்பு மூட்டு (hip joint) (மூட்டு, எலும்பல்ல) \\n 22. பெரிய தொடையெலும்புக் கொண்டை (greater trochanter of femur)\\n 23. தொடையெலும்புப் புடைப்பு (condyles of femur)\\n 19. சில்லெலும்பு (patella) (2)\\n 20. கால் முன்னெலும்பு (கணைக்காலலுள்ளெலும்பு) (tibia) (2)\\n 21. சிம்பு எலும்பு (கணைக்கால்வெளியெலும்பு) (fibula) (2)\\nகாலடிகளில் (52): \\n கணுக்காலெலும்புகள் (tarsal):\\n குதிகால் (calcaneus) (2)\\n முட்டி (talus) (2)\\n படகுரு எலும்பு (navicular bone) (2)\\n உள் ஆப்புவடிவ எலும்பு (2) \\n இடை ஆப்புவடிவ எலும்பு (2)\\n வெளி ஆப்புவடிவ எலும்பு (2)\\n கனசதுர எலும்பு (cuboidal bone) (2)\\n அனுகணுக்காலெலும்புகள் (metatarsal) (5 × 2)\\n விரலெலும்புகள் (phalange):\\n அண்மை விரலெலும்புகள் (proximal phalanges) (5 × 2)\\n நடு விரலெலும்புகள் (intermediate phalanges) (4 × 2)\\n தொலை விரலெலும்புகள் (distal phalanges) (5 × 2)\\n குழந்தை எலும்புக்கூடு \\nகுழந்தைகளின் எலும்புக்கூடுகளில் கீழ் வரும் எலும்புகள் மேலதிகமாக உள்ளன:\\n மண்டையறை மற்றும் மண்டையோட்டு எலும்புகள் (21), இவை ஒன்றாகி மண்டையறையை உருவாக்குகின்றன.\\n திரிக முள்ளெலும்புகள் (sacral vertebrae) (4 or 5), வளர்ந்தோரில் இவை ஒன்றாகி திரிகத்தை உருவாக்குகின்றன \\n coccygeal vertebrae (3 to 5), வளர்ந்தோரில் இவை ஒன்றாகி வாலெலும்பை உருவாக்குகின்றன\\n இடுப்பெலும்பு, கீழ் இடுப்பெலும்பு மற்றும் பொச்செலும்பு (pubis), என்பவை வளர்ந்தோரில் ஒன்றாகி இடுப்பெலும்பை உருவாக்குகின்றன\\n\\nபகுப்பு:மனித உடற்கூற்றியல்\\nபகுப்பு:எலும்புகள்',),)"
      ]
     },
     "execution_count": 12,
     "metadata": {},
     "output_type": "execute_result"
    }
   ],
   "source": [
    "res"
   ]
  },
  {
   "cell_type": "code",
   "execution_count": 67,
   "metadata": {},
   "outputs": [
    {
     "ename": "KeyboardInterrupt",
     "evalue": "",
     "output_type": "error",
     "traceback": [
      "\u001b[0;31m---------------------------------------------------------------------------\u001b[0m",
      "\u001b[0;31mKeyboardInterrupt\u001b[0m                         Traceback (most recent call last)",
      "\u001b[1;32m/home/cts-16/Desktop/aswin/milvus/sample_milvus.ipynb Cell 58'\u001b[0m in \u001b[0;36m<cell line: 2>\u001b[0;34m()\u001b[0m\n\u001b[1;32m      <a href='vscode-notebook-cell:/home/cts-16/Desktop/aswin/milvus/sample_milvus.ipynb#ch0000057?line=0'>1</a>\u001b[0m q \u001b[39m=\u001b[39m \u001b[39m\"\u001b[39m\u001b[39mtruncate table context;\u001b[39m\u001b[39m\"\u001b[39m\n\u001b[0;32m----> <a href='vscode-notebook-cell:/home/cts-16/Desktop/aswin/milvus/sample_milvus.ipynb#ch0000057?line=1'>2</a>\u001b[0m cursor\u001b[39m.\u001b[39;49mexecute(q)\n",
      "File \u001b[0;32m~/Desktop/aswin/milvus/milv/lib/python3.8/site-packages/pymysql/cursors.py:148\u001b[0m, in \u001b[0;36mCursor.execute\u001b[0;34m(self, query, args)\u001b[0m\n\u001b[1;32m    <a href='file:///home/cts-16/Desktop/aswin/milvus/milv/lib/python3.8/site-packages/pymysql/cursors.py?line=143'>144</a>\u001b[0m     \u001b[39mpass\u001b[39;00m\n\u001b[1;32m    <a href='file:///home/cts-16/Desktop/aswin/milvus/milv/lib/python3.8/site-packages/pymysql/cursors.py?line=145'>146</a>\u001b[0m query \u001b[39m=\u001b[39m \u001b[39mself\u001b[39m\u001b[39m.\u001b[39mmogrify(query, args)\n\u001b[0;32m--> <a href='file:///home/cts-16/Desktop/aswin/milvus/milv/lib/python3.8/site-packages/pymysql/cursors.py?line=147'>148</a>\u001b[0m result \u001b[39m=\u001b[39m \u001b[39mself\u001b[39;49m\u001b[39m.\u001b[39;49m_query(query)\n\u001b[1;32m    <a href='file:///home/cts-16/Desktop/aswin/milvus/milv/lib/python3.8/site-packages/pymysql/cursors.py?line=148'>149</a>\u001b[0m \u001b[39mself\u001b[39m\u001b[39m.\u001b[39m_executed \u001b[39m=\u001b[39m query\n\u001b[1;32m    <a href='file:///home/cts-16/Desktop/aswin/milvus/milv/lib/python3.8/site-packages/pymysql/cursors.py?line=149'>150</a>\u001b[0m \u001b[39mreturn\u001b[39;00m result\n",
      "File \u001b[0;32m~/Desktop/aswin/milvus/milv/lib/python3.8/site-packages/pymysql/cursors.py:310\u001b[0m, in \u001b[0;36mCursor._query\u001b[0;34m(self, q)\u001b[0m\n\u001b[1;32m    <a href='file:///home/cts-16/Desktop/aswin/milvus/milv/lib/python3.8/site-packages/pymysql/cursors.py?line=307'>308</a>\u001b[0m \u001b[39mself\u001b[39m\u001b[39m.\u001b[39m_last_executed \u001b[39m=\u001b[39m q\n\u001b[1;32m    <a href='file:///home/cts-16/Desktop/aswin/milvus/milv/lib/python3.8/site-packages/pymysql/cursors.py?line=308'>309</a>\u001b[0m \u001b[39mself\u001b[39m\u001b[39m.\u001b[39m_clear_result()\n\u001b[0;32m--> <a href='file:///home/cts-16/Desktop/aswin/milvus/milv/lib/python3.8/site-packages/pymysql/cursors.py?line=309'>310</a>\u001b[0m conn\u001b[39m.\u001b[39;49mquery(q)\n\u001b[1;32m    <a href='file:///home/cts-16/Desktop/aswin/milvus/milv/lib/python3.8/site-packages/pymysql/cursors.py?line=310'>311</a>\u001b[0m \u001b[39mself\u001b[39m\u001b[39m.\u001b[39m_do_get_result()\n\u001b[1;32m    <a href='file:///home/cts-16/Desktop/aswin/milvus/milv/lib/python3.8/site-packages/pymysql/cursors.py?line=311'>312</a>\u001b[0m \u001b[39mreturn\u001b[39;00m \u001b[39mself\u001b[39m\u001b[39m.\u001b[39mrowcount\n",
      "File \u001b[0;32m~/Desktop/aswin/milvus/milv/lib/python3.8/site-packages/pymysql/connections.py:548\u001b[0m, in \u001b[0;36mConnection.query\u001b[0;34m(self, sql, unbuffered)\u001b[0m\n\u001b[1;32m    <a href='file:///home/cts-16/Desktop/aswin/milvus/milv/lib/python3.8/site-packages/pymysql/connections.py?line=545'>546</a>\u001b[0m     sql \u001b[39m=\u001b[39m sql\u001b[39m.\u001b[39mencode(\u001b[39mself\u001b[39m\u001b[39m.\u001b[39mencoding, \u001b[39m\"\u001b[39m\u001b[39msurrogateescape\u001b[39m\u001b[39m\"\u001b[39m)\n\u001b[1;32m    <a href='file:///home/cts-16/Desktop/aswin/milvus/milv/lib/python3.8/site-packages/pymysql/connections.py?line=546'>547</a>\u001b[0m \u001b[39mself\u001b[39m\u001b[39m.\u001b[39m_execute_command(COMMAND\u001b[39m.\u001b[39mCOM_QUERY, sql)\n\u001b[0;32m--> <a href='file:///home/cts-16/Desktop/aswin/milvus/milv/lib/python3.8/site-packages/pymysql/connections.py?line=547'>548</a>\u001b[0m \u001b[39mself\u001b[39m\u001b[39m.\u001b[39m_affected_rows \u001b[39m=\u001b[39m \u001b[39mself\u001b[39;49m\u001b[39m.\u001b[39;49m_read_query_result(unbuffered\u001b[39m=\u001b[39;49munbuffered)\n\u001b[1;32m    <a href='file:///home/cts-16/Desktop/aswin/milvus/milv/lib/python3.8/site-packages/pymysql/connections.py?line=548'>549</a>\u001b[0m \u001b[39mreturn\u001b[39;00m \u001b[39mself\u001b[39m\u001b[39m.\u001b[39m_affected_rows\n",
      "File \u001b[0;32m~/Desktop/aswin/milvus/milv/lib/python3.8/site-packages/pymysql/connections.py:775\u001b[0m, in \u001b[0;36mConnection._read_query_result\u001b[0;34m(self, unbuffered)\u001b[0m\n\u001b[1;32m    <a href='file:///home/cts-16/Desktop/aswin/milvus/milv/lib/python3.8/site-packages/pymysql/connections.py?line=772'>773</a>\u001b[0m \u001b[39melse\u001b[39;00m:\n\u001b[1;32m    <a href='file:///home/cts-16/Desktop/aswin/milvus/milv/lib/python3.8/site-packages/pymysql/connections.py?line=773'>774</a>\u001b[0m     result \u001b[39m=\u001b[39m MySQLResult(\u001b[39mself\u001b[39m)\n\u001b[0;32m--> <a href='file:///home/cts-16/Desktop/aswin/milvus/milv/lib/python3.8/site-packages/pymysql/connections.py?line=774'>775</a>\u001b[0m     result\u001b[39m.\u001b[39;49mread()\n\u001b[1;32m    <a href='file:///home/cts-16/Desktop/aswin/milvus/milv/lib/python3.8/site-packages/pymysql/connections.py?line=775'>776</a>\u001b[0m \u001b[39mself\u001b[39m\u001b[39m.\u001b[39m_result \u001b[39m=\u001b[39m result\n\u001b[1;32m    <a href='file:///home/cts-16/Desktop/aswin/milvus/milv/lib/python3.8/site-packages/pymysql/connections.py?line=776'>777</a>\u001b[0m \u001b[39mif\u001b[39;00m result\u001b[39m.\u001b[39mserver_status \u001b[39mis\u001b[39;00m \u001b[39mnot\u001b[39;00m \u001b[39mNone\u001b[39;00m:\n",
      "File \u001b[0;32m~/Desktop/aswin/milvus/milv/lib/python3.8/site-packages/pymysql/connections.py:1156\u001b[0m, in \u001b[0;36mMySQLResult.read\u001b[0;34m(self)\u001b[0m\n\u001b[1;32m   <a href='file:///home/cts-16/Desktop/aswin/milvus/milv/lib/python3.8/site-packages/pymysql/connections.py?line=1153'>1154</a>\u001b[0m \u001b[39mdef\u001b[39;00m \u001b[39mread\u001b[39m(\u001b[39mself\u001b[39m):\n\u001b[1;32m   <a href='file:///home/cts-16/Desktop/aswin/milvus/milv/lib/python3.8/site-packages/pymysql/connections.py?line=1154'>1155</a>\u001b[0m     \u001b[39mtry\u001b[39;00m:\n\u001b[0;32m-> <a href='file:///home/cts-16/Desktop/aswin/milvus/milv/lib/python3.8/site-packages/pymysql/connections.py?line=1155'>1156</a>\u001b[0m         first_packet \u001b[39m=\u001b[39m \u001b[39mself\u001b[39;49m\u001b[39m.\u001b[39;49mconnection\u001b[39m.\u001b[39;49m_read_packet()\n\u001b[1;32m   <a href='file:///home/cts-16/Desktop/aswin/milvus/milv/lib/python3.8/site-packages/pymysql/connections.py?line=1157'>1158</a>\u001b[0m         \u001b[39mif\u001b[39;00m first_packet\u001b[39m.\u001b[39mis_ok_packet():\n\u001b[1;32m   <a href='file:///home/cts-16/Desktop/aswin/milvus/milv/lib/python3.8/site-packages/pymysql/connections.py?line=1158'>1159</a>\u001b[0m             \u001b[39mself\u001b[39m\u001b[39m.\u001b[39m_read_ok_packet(first_packet)\n",
      "File \u001b[0;32m~/Desktop/aswin/milvus/milv/lib/python3.8/site-packages/pymysql/connections.py:692\u001b[0m, in \u001b[0;36mConnection._read_packet\u001b[0;34m(self, packet_type)\u001b[0m\n\u001b[1;32m    <a href='file:///home/cts-16/Desktop/aswin/milvus/milv/lib/python3.8/site-packages/pymysql/connections.py?line=689'>690</a>\u001b[0m buff \u001b[39m=\u001b[39m \u001b[39mbytearray\u001b[39m()\n\u001b[1;32m    <a href='file:///home/cts-16/Desktop/aswin/milvus/milv/lib/python3.8/site-packages/pymysql/connections.py?line=690'>691</a>\u001b[0m \u001b[39mwhile\u001b[39;00m \u001b[39mTrue\u001b[39;00m:\n\u001b[0;32m--> <a href='file:///home/cts-16/Desktop/aswin/milvus/milv/lib/python3.8/site-packages/pymysql/connections.py?line=691'>692</a>\u001b[0m     packet_header \u001b[39m=\u001b[39m \u001b[39mself\u001b[39;49m\u001b[39m.\u001b[39;49m_read_bytes(\u001b[39m4\u001b[39;49m)\n\u001b[1;32m    <a href='file:///home/cts-16/Desktop/aswin/milvus/milv/lib/python3.8/site-packages/pymysql/connections.py?line=692'>693</a>\u001b[0m     \u001b[39m# if DEBUG: dump_packet(packet_header)\u001b[39;00m\n\u001b[1;32m    <a href='file:///home/cts-16/Desktop/aswin/milvus/milv/lib/python3.8/site-packages/pymysql/connections.py?line=694'>695</a>\u001b[0m     btrl, btrh, packet_number \u001b[39m=\u001b[39m struct\u001b[39m.\u001b[39munpack(\u001b[39m\"\u001b[39m\u001b[39m<HBB\u001b[39m\u001b[39m\"\u001b[39m, packet_header)\n",
      "File \u001b[0;32m~/Desktop/aswin/milvus/milv/lib/python3.8/site-packages/pymysql/connections.py:732\u001b[0m, in \u001b[0;36mConnection._read_bytes\u001b[0;34m(self, num_bytes)\u001b[0m\n\u001b[1;32m    <a href='file:///home/cts-16/Desktop/aswin/milvus/milv/lib/python3.8/site-packages/pymysql/connections.py?line=729'>730</a>\u001b[0m \u001b[39mwhile\u001b[39;00m \u001b[39mTrue\u001b[39;00m:\n\u001b[1;32m    <a href='file:///home/cts-16/Desktop/aswin/milvus/milv/lib/python3.8/site-packages/pymysql/connections.py?line=730'>731</a>\u001b[0m     \u001b[39mtry\u001b[39;00m:\n\u001b[0;32m--> <a href='file:///home/cts-16/Desktop/aswin/milvus/milv/lib/python3.8/site-packages/pymysql/connections.py?line=731'>732</a>\u001b[0m         data \u001b[39m=\u001b[39m \u001b[39mself\u001b[39;49m\u001b[39m.\u001b[39;49m_rfile\u001b[39m.\u001b[39;49mread(num_bytes)\n\u001b[1;32m    <a href='file:///home/cts-16/Desktop/aswin/milvus/milv/lib/python3.8/site-packages/pymysql/connections.py?line=732'>733</a>\u001b[0m         \u001b[39mbreak\u001b[39;00m\n\u001b[1;32m    <a href='file:///home/cts-16/Desktop/aswin/milvus/milv/lib/python3.8/site-packages/pymysql/connections.py?line=733'>734</a>\u001b[0m     \u001b[39mexcept\u001b[39;00m (\u001b[39mIOError\u001b[39;00m, \u001b[39mOSError\u001b[39;00m) \u001b[39mas\u001b[39;00m e:\n",
      "File \u001b[0;32m/usr/lib/python3.8/socket.py:669\u001b[0m, in \u001b[0;36mSocketIO.readinto\u001b[0;34m(self, b)\u001b[0m\n\u001b[1;32m    <a href='file:///usr/lib/python3.8/socket.py?line=666'>667</a>\u001b[0m \u001b[39mwhile\u001b[39;00m \u001b[39mTrue\u001b[39;00m:\n\u001b[1;32m    <a href='file:///usr/lib/python3.8/socket.py?line=667'>668</a>\u001b[0m     \u001b[39mtry\u001b[39;00m:\n\u001b[0;32m--> <a href='file:///usr/lib/python3.8/socket.py?line=668'>669</a>\u001b[0m         \u001b[39mreturn\u001b[39;00m \u001b[39mself\u001b[39;49m\u001b[39m.\u001b[39;49m_sock\u001b[39m.\u001b[39;49mrecv_into(b)\n\u001b[1;32m    <a href='file:///usr/lib/python3.8/socket.py?line=669'>670</a>\u001b[0m     \u001b[39mexcept\u001b[39;00m timeout:\n\u001b[1;32m    <a href='file:///usr/lib/python3.8/socket.py?line=670'>671</a>\u001b[0m         \u001b[39mself\u001b[39m\u001b[39m.\u001b[39m_timeout_occurred \u001b[39m=\u001b[39m \u001b[39mTrue\u001b[39;00m\n",
      "\u001b[0;31mKeyboardInterrupt\u001b[0m: "
     ]
    }
   ],
   "source": [
    "q = \"truncate table context;\"\n",
    "cursor.execute(q)\n"
   ]
  },
  {
   "cell_type": "code",
   "execution_count": 13,
   "metadata": {},
   "outputs": [
    {
     "name": "stdout",
     "output_type": "stream",
     "text": [
      "Collecting transformers\n",
      "  Downloading transformers-4.18.0-py3-none-any.whl (4.0 MB)\n",
      "Requirement already satisfied: pyyaml>=5.1 in c:\\users\\admin\\anaconda3\\lib\\site-packages (from transformers) (6.0)\n",
      "Requirement already satisfied: filelock in c:\\users\\admin\\anaconda3\\lib\\site-packages (from transformers) (3.3.1)\n",
      "Collecting huggingface-hub<1.0,>=0.1.0\n",
      "  Downloading huggingface_hub-0.5.1-py3-none-any.whl (77 kB)\n",
      "Requirement already satisfied: requests in c:\\users\\admin\\anaconda3\\lib\\site-packages (from transformers) (2.26.0)\n",
      "Requirement already satisfied: numpy>=1.17 in c:\\users\\admin\\anaconda3\\lib\\site-packages (from transformers) (1.20.3)\n",
      "Requirement already satisfied: regex!=2019.12.17 in c:\\users\\admin\\anaconda3\\lib\\site-packages (from transformers) (2021.8.3)\n",
      "Requirement already satisfied: tqdm>=4.27 in c:\\users\\admin\\anaconda3\\lib\\site-packages (from transformers) (4.62.3)\n",
      "Requirement already satisfied: packaging>=20.0 in c:\\users\\admin\\anaconda3\\lib\\site-packages (from transformers) (21.0)\n",
      "Collecting tokenizers!=0.11.3,<0.13,>=0.11.1\n",
      "  Downloading tokenizers-0.12.1-cp39-cp39-win_amd64.whl (3.3 MB)\n",
      "Collecting sacremoses\n",
      "  Using cached sacremoses-0.0.49-py3-none-any.whl (895 kB)\n",
      "Requirement already satisfied: typing-extensions>=3.7.4.3 in c:\\users\\admin\\anaconda3\\lib\\site-packages (from huggingface-hub<1.0,>=0.1.0->transformers) (3.10.0.2)\n",
      "Requirement already satisfied: pyparsing>=2.0.2 in c:\\users\\admin\\anaconda3\\lib\\site-packages (from packaging>=20.0->transformers) (3.0.4)\n",
      "Requirement already satisfied: colorama in c:\\users\\admin\\anaconda3\\lib\\site-packages (from tqdm>=4.27->transformers) (0.4.4)\n",
      "Requirement already satisfied: certifi>=2017.4.17 in c:\\users\\admin\\anaconda3\\lib\\site-packages (from requests->transformers) (2021.10.8)\n",
      "Requirement already satisfied: idna<4,>=2.5 in c:\\users\\admin\\anaconda3\\lib\\site-packages (from requests->transformers) (3.2)\n",
      "Requirement already satisfied: urllib3<1.27,>=1.21.1 in c:\\users\\admin\\anaconda3\\lib\\site-packages (from requests->transformers) (1.26.7)\n",
      "Requirement already satisfied: charset-normalizer~=2.0.0 in c:\\users\\admin\\anaconda3\\lib\\site-packages (from requests->transformers) (2.0.4)\n",
      "Requirement already satisfied: six in c:\\users\\admin\\anaconda3\\lib\\site-packages (from sacremoses->transformers) (1.16.0)\n",
      "Requirement already satisfied: click in c:\\users\\admin\\anaconda3\\lib\\site-packages (from sacremoses->transformers) (8.0.3)\n",
      "Requirement already satisfied: joblib in c:\\users\\admin\\anaconda3\\lib\\site-packages (from sacremoses->transformers) (1.1.0)\n",
      "Installing collected packages: tokenizers, sacremoses, huggingface-hub, transformers\n",
      "Successfully installed huggingface-hub-0.5.1 sacremoses-0.0.49 tokenizers-0.12.1 transformers-4.18.0\n"
     ]
    }
   ],
   "source": [
    "!pip install transformers"
   ]
  },
  {
   "cell_type": "code",
   "execution_count": 16,
   "metadata": {},
   "outputs": [
    {
     "name": "stdout",
     "output_type": "stream",
     "text": [
      "Looking in indexes: https://pypi.org/simple, https://download.pytorch.org/whl/cu113\n",
      "Collecting torch\n",
      "  Downloading https://download.pytorch.org/whl/cu113/torch-1.11.0%2Bcu113-cp39-cp39-win_amd64.whl (2186.0 MB)\n",
      "Collecting torchvision\n",
      "  Downloading https://download.pytorch.org/whl/cu113/torchvision-0.12.0%2Bcu113-cp39-cp39-win_amd64.whl (5.4 MB)\n",
      "Collecting torchaudio\n",
      "  Downloading https://download.pytorch.org/whl/cu113/torchaudio-0.11.0%2Bcu113-cp39-cp39-win_amd64.whl (573 kB)\n",
      "Requirement already satisfied: typing-extensions in c:\\users\\admin\\anaconda3\\lib\\site-packages (from torch) (3.10.0.2)\n",
      "Requirement already satisfied: requests in c:\\users\\admin\\anaconda3\\lib\\site-packages (from torchvision) (2.26.0)\n",
      "Requirement already satisfied: pillow!=8.3.*,>=5.3.0 in c:\\users\\admin\\anaconda3\\lib\\site-packages (from torchvision) (8.4.0)\n",
      "Requirement already satisfied: numpy in c:\\users\\admin\\anaconda3\\lib\\site-packages (from torchvision) (1.20.3)\n",
      "Requirement already satisfied: certifi>=2017.4.17 in c:\\users\\admin\\anaconda3\\lib\\site-packages (from requests->torchvision) (2021.10.8)\n",
      "Requirement already satisfied: charset-normalizer~=2.0.0 in c:\\users\\admin\\anaconda3\\lib\\site-packages (from requests->torchvision) (2.0.4)\n",
      "Requirement already satisfied: idna<4,>=2.5 in c:\\users\\admin\\anaconda3\\lib\\site-packages (from requests->torchvision) (3.2)\n",
      "Requirement already satisfied: urllib3<1.27,>=1.21.1 in c:\\users\\admin\\anaconda3\\lib\\site-packages (from requests->torchvision) (1.26.7)\n",
      "Installing collected packages: torch, torchvision, torchaudio\n",
      "Successfully installed torch-1.11.0+cu113 torchaudio-0.11.0+cu113 torchvision-0.12.0+cu113\n"
     ]
    }
   ],
   "source": [
    "!pip install torch torchvision torchaudio --extra-index-url https://download.pytorch.org/whl/cu113"
   ]
  },
  {
   "cell_type": "code",
   "execution_count": null,
   "metadata": {},
   "outputs": [],
   "source": []
  }
 ],
 "metadata": {
  "interpreter": {
   "hash": "916dbcbb3f70747c44a77c7bcd40155683ae19c65e1c03b4aa3499c5328201f1"
  },
  "kernelspec": {
   "display_name": "Python 3.8.10 64-bit",
   "language": "python",
   "name": "python3"
  },
  "language_info": {
   "codemirror_mode": {
    "name": "ipython",
    "version": 3
   },
   "file_extension": ".py",
   "mimetype": "text/x-python",
   "name": "python",
   "nbconvert_exporter": "python",
   "pygments_lexer": "ipython3",
   "version": "3.9.7"
  },
  "orig_nbformat": 4
 },
 "nbformat": 4,
 "nbformat_minor": 2
}
