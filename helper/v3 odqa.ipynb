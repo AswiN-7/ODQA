{
 "cells": [
  {
   "cell_type": "code",
   "execution_count": 3,
   "metadata": {},
   "outputs": [],
   "source": [
    "import importlib\n",
    "import pandas as pd\n",
    "import odqa_encoder\n",
    "import odqa_milvus\n",
    "import odqa_mysql\n",
    "from answer_extractor import answer_extract\n"
   ]
  },
  {
   "cell_type": "code",
   "execution_count": 1,
   "metadata": {},
   "outputs": [],
   "source": [
    "question = [\"மனித உடலில் எத்தனை எலும்புகள் உள்ளன?\"]\n"
   ]
  },
  {
   "cell_type": "code",
   "execution_count": 5,
   "metadata": {},
   "outputs": [],
   "source": [
    "question_emb = odqa_encoder.encode(question)\n",
    "\n",
    "similar_ids = odqa_milvus.find_similar(question_emb)\n",
    "sim_ids = similar_ids[0].ids\n",
    "retrieved_context = odqa_mysql.extract_context(sim_ids[0])"
   ]
  },
  {
   "cell_type": "code",
   "execution_count": 6,
   "metadata": {},
   "outputs": [
    {
     "data": {
      "text/plain": [
       "[{'score': 3.443395598878851e-06,\n",
       "  'start': 507,\n",
       "  'end': 514,\n",
       "  'answer': ' நான்கு'}]"
      ]
     },
     "execution_count": 6,
     "metadata": {},
     "output_type": "execute_result"
    }
   ],
   "source": [
    "QA_input = {\n",
    "    'question': question,\n",
    "    'context': retrieved_context\n",
    "}\n",
    "res = answer_extract(QA_input)\n",
    "res"
   ]
  },
  {
   "cell_type": "code",
   "execution_count": 2,
   "metadata": {},
   "outputs": [],
   "source": [
    "from pymilvus import connections, FieldSchema, CollectionSchema, DataType, Collection, utility\n",
    "connections.connect()\n",
    "TABLE_NAME = 'question_answering'"
   ]
  },
  {
   "cell_type": "code",
   "execution_count": 3,
   "metadata": {},
   "outputs": [
    {
     "data": {
      "text/plain": [
       "Status(code=0, message='')"
      ]
     },
     "execution_count": 3,
     "metadata": {},
     "output_type": "execute_result"
    }
   ],
   "source": [
    "field1 = FieldSchema(name=\"ind\", dtype=DataType.INT64, descrition=\"int64\", is_primary=True)\n",
    "field2 = FieldSchema(name=\"id\", dtype=DataType.INT64, descrition=\"int64\", is_primary=False)\n",
    "field3 = FieldSchema(name=\"embedding\", dtype=DataType.FLOAT_VECTOR, descrition=\"float vector\",dim=768, is_primary=False)\n",
    "schema = CollectionSchema(fields=[field1, field2, field3], description=\"collection description\")\n",
    "collection = Collection(name=TABLE_NAME, schema=schema)\n",
    "default_index = {\"index_type\": \"IVF_FLAT\", \"metric_type\": 'IP', \"params\": {\"nlist\": 200}}\n",
    "collection.create_index(field_name=\"embedding\", index_params=default_index)"
   ]
  },
  {
   "cell_type": "code",
   "execution_count": 4,
   "metadata": {},
   "outputs": [],
   "source": [
    "search_params = {\"metric_type\": \"IP\", \"params\": {\"nprobe\": 10}}\n"
   ]
  },
  {
   "cell_type": "code",
   "execution_count": 5,
   "metadata": {},
   "outputs": [],
   "source": [
    "def find_similar(emb):\n",
    "    collection.load()\n",
    "    return collection.search(\n",
    "\tdata=emb, \n",
    "\tanns_field=\"embedding\", \n",
    "\tparam=search_params, \n",
    "\tlimit=10, \n",
    "\texpr=None,\n",
    "\tconsistency_level=\"Strong\"\n",
    ")"
   ]
  },
  {
   "cell_type": "code",
   "execution_count": null,
   "metadata": {},
   "outputs": [],
   "source": []
  }
 ],
 "metadata": {
  "interpreter": {
   "hash": "183bbf6827d058c2a2fb0f4acdc0420849dda2b4380af0e437e38c64d798d8b7"
  },
  "kernelspec": {
   "display_name": "Python 3.9.7 ('base')",
   "language": "python",
   "name": "python3"
  },
  "language_info": {
   "codemirror_mode": {
    "name": "ipython",
    "version": 3
   },
   "file_extension": ".py",
   "mimetype": "text/x-python",
   "name": "python",
   "nbconvert_exporter": "python",
   "pygments_lexer": "ipython3",
   "version": "3.9.7"
  },
  "orig_nbformat": 4
 },
 "nbformat": 4,
 "nbformat_minor": 2
}
