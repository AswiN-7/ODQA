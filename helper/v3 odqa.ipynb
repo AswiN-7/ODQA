{
 "cells": [
  {
   "cell_type": "code",
   "execution_count": 1,
   "metadata": {},
   "outputs": [
    {
     "name": "stderr",
     "output_type": "stream",
     "text": [
      "Some weights of the model checkpoint at ai4bharat/indic-bert were not used when initializing AlbertModel: ['predictions.LayerNorm.weight', 'predictions.bias', 'predictions.LayerNorm.bias', 'predictions.decoder.bias', 'predictions.dense.weight', 'sop_classifier.classifier.weight', 'predictions.decoder.weight', 'sop_classifier.classifier.bias', 'predictions.dense.bias']\n",
      "- This IS expected if you are initializing AlbertModel from the checkpoint of a model trained on another task or with another architecture (e.g. initializing a BertForSequenceClassification model from a BertForPreTraining model).\n",
      "- This IS NOT expected if you are initializing AlbertModel from the checkpoint of a model that you expect to be exactly identical (initializing a BertForSequenceClassification model from a BertForSequenceClassification model).\n"
     ]
    },
    {
     "name": "stdout",
     "output_type": "stream",
     "text": [
      "odqa\n"
     ]
    }
   ],
   "source": [
    "import importlib\n",
    "import pandas as pd\n",
    "import odqa_encoder\n",
    "import odqa_milvus\n",
    "import odqa_mysql\n",
    "from odqa_answer_extractor import answer_extract\n"
   ]
  },
  {
   "cell_type": "code",
   "execution_count": 2,
   "metadata": {},
   "outputs": [],
   "source": [
    "import json"
   ]
  },
  {
   "cell_type": "code",
   "execution_count": 3,
   "metadata": {},
   "outputs": [],
   "source": [
    "def push_context_to_milvus():\n",
    "\n",
    "    # db_fp = r\"database_handler.json\"\n",
    "    # file = open(db_fp)\n",
    "    # database_handler = json.loads(file.read())\n",
    "    # file.close()\n",
    "\n",
    "    start= database_handler['milvus_rows']\n",
    "    end= start+database_handler[\"batch\"]\n",
    "    index = database_handler['milvus_rows']\n",
    "    \n",
    "    query = f\"select * from context where id between {start} and {end} ;\"\n",
    "    res = odqa_mysql.execute_query(query)\n",
    "\n",
    "    for id, context in res:\n",
    "        emb = odqa_encoder.encode(context)\n",
    "        collection.insert([[index], [id], emb])\n",
    "        index+=1  \n",
    "           \n",
    "    database_handler['milvus_rows'] = end\n",
    "    database_handler['milvus_index'] = index\n",
    "\n",
    "    file = open(db_fp,\"w\")\n",
    "    json.dump(database_handler, file)\n",
    "    file.close()\n",
    "    "
   ]
  },
  {
   "cell_type": "code",
   "execution_count": 4,
   "metadata": {},
   "outputs": [],
   "source": [
    "question = [\"மனித உடலில் எத்தனை எலும்புகள் உள்ளன?\"]\n"
   ]
  },
  {
   "cell_type": "code",
   "execution_count": 5,
   "metadata": {},
   "outputs": [
    {
     "ename": "AttributeError",
     "evalue": "'NoneType' object has no attribute 'load'",
     "output_type": "error",
     "traceback": [
      "\u001b[1;31m---------------------------------------------------------------------------\u001b[0m",
      "\u001b[1;31mAttributeError\u001b[0m                            Traceback (most recent call last)",
      "\u001b[1;32m~\\AppData\\Local\\Temp/ipykernel_556/580952837.py\u001b[0m in \u001b[0;36m<module>\u001b[1;34m\u001b[0m\n\u001b[0;32m      1\u001b[0m \u001b[0mquestion_emb\u001b[0m \u001b[1;33m=\u001b[0m \u001b[0modqa_encoder\u001b[0m\u001b[1;33m.\u001b[0m\u001b[0mencode\u001b[0m\u001b[1;33m(\u001b[0m\u001b[0mquestion\u001b[0m\u001b[1;33m)\u001b[0m\u001b[1;33m\u001b[0m\u001b[1;33m\u001b[0m\u001b[0m\n\u001b[0;32m      2\u001b[0m \u001b[1;33m\u001b[0m\u001b[0m\n\u001b[1;32m----> 3\u001b[1;33m \u001b[0msimilar_ids\u001b[0m \u001b[1;33m=\u001b[0m \u001b[0modqa_milvus\u001b[0m\u001b[1;33m.\u001b[0m\u001b[0mfind_similar\u001b[0m\u001b[1;33m(\u001b[0m\u001b[0mquestion_emb\u001b[0m\u001b[1;33m)\u001b[0m\u001b[1;33m\u001b[0m\u001b[1;33m\u001b[0m\u001b[0m\n\u001b[0m\u001b[0;32m      4\u001b[0m \u001b[0msim_ids\u001b[0m \u001b[1;33m=\u001b[0m \u001b[0msimilar_ids\u001b[0m\u001b[1;33m[\u001b[0m\u001b[1;36m0\u001b[0m\u001b[1;33m]\u001b[0m\u001b[1;33m.\u001b[0m\u001b[0mids\u001b[0m\u001b[1;33m\u001b[0m\u001b[1;33m\u001b[0m\u001b[0m\n\u001b[0;32m      5\u001b[0m \u001b[0mretrieved_context\u001b[0m \u001b[1;33m=\u001b[0m \u001b[0modqa_mysql\u001b[0m\u001b[1;33m.\u001b[0m\u001b[0mextract_context\u001b[0m\u001b[1;33m(\u001b[0m\u001b[0msim_ids\u001b[0m\u001b[1;33m[\u001b[0m\u001b[1;36m0\u001b[0m\u001b[1;33m]\u001b[0m\u001b[1;33m)\u001b[0m\u001b[1;33m\u001b[0m\u001b[1;33m\u001b[0m\u001b[0m\n",
      "\u001b[1;32mc:\\Users\\Admin\\Desktop\\02-5 ODQA\\ODQA\\helper\\odqa_milvus.py\u001b[0m in \u001b[0;36mfind_similar\u001b[1;34m(emb)\u001b[0m\n\u001b[0;32m     32\u001b[0m \u001b[1;33m\u001b[0m\u001b[0m\n\u001b[0;32m     33\u001b[0m \u001b[1;32mdef\u001b[0m \u001b[0mfind_similar\u001b[0m\u001b[1;33m(\u001b[0m\u001b[0memb\u001b[0m\u001b[1;33m)\u001b[0m\u001b[1;33m:\u001b[0m\u001b[1;33m\u001b[0m\u001b[1;33m\u001b[0m\u001b[0m\n\u001b[1;32m---> 34\u001b[1;33m     \u001b[0mcollection\u001b[0m\u001b[1;33m.\u001b[0m\u001b[0mload\u001b[0m\u001b[1;33m(\u001b[0m\u001b[1;33m)\u001b[0m\u001b[1;33m\u001b[0m\u001b[1;33m\u001b[0m\u001b[0m\n\u001b[0m\u001b[0;32m     35\u001b[0m     return collection.search(\n\u001b[0;32m     36\u001b[0m         \u001b[0mdata\u001b[0m\u001b[1;33m=\u001b[0m\u001b[0memb\u001b[0m\u001b[1;33m,\u001b[0m\u001b[1;33m\u001b[0m\u001b[1;33m\u001b[0m\u001b[0m\n",
      "\u001b[1;31mAttributeError\u001b[0m: 'NoneType' object has no attribute 'load'"
     ]
    }
   ],
   "source": [
    "question_emb = odqa_encoder.encode(question)\n",
    "\n",
    "similar_ids = odqa_milvus.find_similar(question_emb)\n",
    "sim_ids = similar_ids[0].ids\n",
    "retrieved_context = odqa_mysql.extract_context(sim_ids[0])"
   ]
  },
  {
   "cell_type": "code",
   "execution_count": 6,
   "metadata": {},
   "outputs": [
    {
     "data": {
      "text/plain": [
       "[{'score': 3.443395598878851e-06,\n",
       "  'start': 507,\n",
       "  'end': 514,\n",
       "  'answer': ' நான்கு'}]"
      ]
     },
     "execution_count": 6,
     "metadata": {},
     "output_type": "execute_result"
    }
   ],
   "source": [
    "QA_input = {\n",
    "    'question': question,\n",
    "    'context': retrieved_context\n",
    "}\n",
    "res = answer_extract(QA_input)\n",
    "res"
   ]
  },
  {
   "cell_type": "code",
   "execution_count": 10,
   "metadata": {},
   "outputs": [],
   "source": [
    "from pymilvus import connections, FieldSchema, CollectionSchema, DataType, Collection, utility\n",
    "connections.connect()\n",
    "TABLE_NAME = 'question_answering'"
   ]
  },
  {
   "cell_type": "code",
   "execution_count": 15,
   "metadata": {},
   "outputs": [
    {
     "data": {
      "text/plain": [
       "Status(code=0, message='')"
      ]
     },
     "execution_count": 15,
     "metadata": {},
     "output_type": "execute_result"
    }
   ],
   "source": [
    "field1 = FieldSchema(name=\"ind\", dtype=DataType.INT64, descrition=\"int64\", is_primary=True)\n",
    "field2 = FieldSchema(name=\"id\", dtype=DataType.INT64, descrition=\"int64\", is_primary=False)\n",
    "field3 = FieldSchema(name=\"embedding\", dtype=DataType.FLOAT_VECTOR, descrition=\"float vector\",dim=768, is_primary=False)\n",
    "schema = CollectionSchema(fields=[field1, field2, field3], description=\"collection description\")\n",
    "collection = Collection(name=TABLE_NAME, schema=schema)\n",
    "default_index = {\"index_type\": \"IVF_FLAT\", \"metric_type\": 'IP', \"params\": {\"nlist\": 200}}\n",
    "collection.create_index(field_name=\"embedding\", index_params=default_index)"
   ]
  },
  {
   "cell_type": "code",
   "execution_count": 14,
   "metadata": {},
   "outputs": [],
   "source": [
    "if utility.has_collection(TABLE_NAME):\n",
    "    collection = Collection(name=TABLE_NAME)\n",
    "    collection.drop()\n",
    "    \n",
    "    # print(collection)"
   ]
  },
  {
   "cell_type": "code",
   "execution_count": 16,
   "metadata": {},
   "outputs": [
    {
     "data": {
      "text/plain": [
       "<Collection>:\n",
       "-------------\n",
       "<name>: question_answering\n",
       "<partitions>: [{\"name\": \"_default\", \"collection_name\": \"question_answering\", \"description\": \"\"}]\n",
       "<description>: collection description\n",
       "<schema>: {\n",
       "  auto_id: False\n",
       "  description: collection description\n",
       "  fields: [{\n",
       "    name: ind\n",
       "    description: \n",
       "    type: 5\n",
       "    is_primary: True\n",
       "    auto_id: False\n",
       "  }, {\n",
       "    name: id\n",
       "    description: \n",
       "    type: 5\n",
       "  }, {\n",
       "    name: embedding\n",
       "    description: \n",
       "    type: 101\n",
       "    params: {'dim': 768}\n",
       "  }]\n",
       "}"
      ]
     },
     "execution_count": 16,
     "metadata": {},
     "output_type": "execute_result"
    }
   ],
   "source": [
    "collection"
   ]
  },
  {
   "cell_type": "code",
   "execution_count": 17,
   "metadata": {},
   "outputs": [],
   "source": [
    "search_params = {\"metric_type\": \"IP\", \"params\": {\"nprobe\": 10}}\n"
   ]
  },
  {
   "cell_type": "code",
   "execution_count": 5,
   "metadata": {},
   "outputs": [],
   "source": [
    "def find_similar(emb):\n",
    "    collection.load()\n",
    "    return collection.search(\n",
    "\tdata=emb, \n",
    "\tanns_field=\"embedding\", \n",
    "\tparam=search_params, \n",
    "\tlimit=10, \n",
    "\texpr=None,\n",
    "\tconsistency_level=\"Strong\"\n",
    ")"
   ]
  },
  {
   "cell_type": "markdown",
   "metadata": {},
   "source": [
    "# encoder "
   ]
  },
  {
   "cell_type": "code",
   "execution_count": 1,
   "metadata": {},
   "outputs": [
    {
     "name": "stderr",
     "output_type": "stream",
     "text": [
      "Some weights of the model checkpoint at ai4bharat/indic-bert were not used when initializing AlbertModel: ['predictions.LayerNorm.weight', 'predictions.decoder.bias', 'predictions.decoder.weight', 'predictions.dense.weight', 'predictions.LayerNorm.bias', 'sop_classifier.classifier.weight', 'predictions.dense.bias', 'sop_classifier.classifier.bias', 'predictions.bias']\n",
      "- This IS expected if you are initializing AlbertModel from the checkpoint of a model trained on another task or with another architecture (e.g. initializing a BertForSequenceClassification model from a BertForPreTraining model).\n",
      "- This IS NOT expected if you are initializing AlbertModel from the checkpoint of a model that you expect to be exactly identical (initializing a BertForSequenceClassification model from a BertForSequenceClassification model).\n"
     ]
    }
   ],
   "source": [
    "import os\n",
    "os.environ[\"TOKENIZERS_PARALLELISM\"] = \"false\"\n",
    "from transformers import AutoModel, AutoTokenizer\n",
    "\n",
    "tokenizer = AutoTokenizer.from_pretrained('ai4bharat/indic-bert')\n",
    "model = AutoModel.from_pretrained('ai4bharat/indic-bert')\n",
    "\n",
    "import torch\n",
    "import torch.nn.functional as F\n",
    "\n",
    "#Mean Pooling - Take average of all tokens\n",
    "def mean_pooling(model_output, attention_mask):\n",
    "    token_embeddings = model_output.last_hidden_state #First element of model_output contains all token embeddings\n",
    "    input_mask_expanded = attention_mask.unsqueeze(-1).expand(token_embeddings.size()).float()\n",
    "    return torch.sum(token_embeddings * input_mask_expanded, 1) / torch.clamp(input_mask_expanded.sum(1), min=1e-9)\n",
    "#Encode text\n",
    "def encode(texts):\n",
    "    # Tokenize sentences\n",
    "    doc_stride = 128\n",
    "    encoded_input = tokenizer(texts, padding=True, truncation=True, return_tensors='pt', max_length=512, stride=doc_stride, return_overflowing_tokens = True)\n",
    "    encoded_input.pop(\"overflow_to_sample_mapping\")\n",
    "\n",
    "    # Compute token embeddings\n",
    "    with torch.no_grad():\n",
    "        model_output = model(**encoded_input, return_dict=True)\n",
    "\n",
    "    # Perform pooling\n",
    "    embeddings = mean_pooling(model_output, encoded_input['attention_mask'])\n",
    "\n",
    "    # Normalize embeddings\n",
    "    embeddings = F.normalize(embeddings, p=2, dim=1)\n",
    "    \n",
    "    return embeddings.tolist()"
   ]
  },
  {
   "cell_type": "code",
   "execution_count": 7,
   "metadata": {},
   "outputs": [],
   "source": [
    "index, id = 0, 0\n",
    "context = [\"ஒரு சாதாரண வளர்ந்த மனிதனுடைய எலும்புக்கூடு பின்வரும் 206 (மார்பெலும்பு மூன்று பகுதிகளாகக் கருதப்பட்டால் 208) எண்ணிக்கையான எலும்புகளைக் கொண்டிருக்கும். இந்த எண்ணிக்கை உடற்கூட்டியல் வேறுபாடுகளைப் பொறுத்து மாறுபடக்கூடும். எடுத்துக்காட்டாக, மிகக் குறைந்த எண்ணிக்கையான மனிதர்களில், ஒரு மேலதிக விலா எலும்பு (கழுத்துவில்) அல்லது ஒரு மேலதிகமான கீழ் முதுகெலும்பு காணப்படுவதுண்டு; இணைந்த சில எலும்புகளைத் தனி எலும்பாகக் கருதாவிடின், ஐந்து இணைந்த திருவெலும்பு; மூன்று (3 - 5) குயிலலகு எலும்புகள் சேர்ந்து 26 எண்ணிக்கையிலான முதுகெலும்புகள் 33 ஆகக் கருதப்படலாம்.\\nமனித மண்டையோட்டில் 22 எலும்புகள் (காதுச் சிற்றென்புகளைத் தவிர) உள்ளன; இவை எட்டு மண்டையறை (cranium) எலும்புகளாகவும் 14 முக எலும்புகளாகவும் (facial bones) பிரிக்கப்பட்டுள்ளன. (தடித்த எண்கள் அருகிலுள்ள படத்தில் காணும் எண்களைக் குறிக்கின்றன.)\\n\\n\\n\\nமண்டையறை எலும்புகள் (8)\\n 1 நுதலெலும்பு (frontal bone) \\n 2 சுவரெலும்பு (parietal bone) (2)\\n 3 கடைநுதலெலும்பு (temporal bone) (2)\\n 4 பிடர் எலும்பு (occipital bone)\\n ஆப்புரு எலும்பு (sphenoid bone)\\n நெய்யரியெலும்பு (ethmoid bone)\\nமுக எலும்புகள் (14)\\n 7 கீழ்த்தாடை எலும்பு (mandible)\\n 6 மேற்றாடை எலும்பு (maxilla) (2)\\n அண்ணவெலும்பு (palatine bone) (2)\\n 5 கன்ன எலும்பு (zygomatic bone) (2)\\n 9 நாசி எலும்பு (nasal bone) (2)\\n கண்ணீர் எலும்பு (lacrimal bone) (2)\\n மூக்குச் சுவர் எலும்பு (vomer)\\n கீழ் மூக்குத் தடுப்பெலும்பு (inferior nasal conchae) (2)\\nநடுக்காதுகளில் (6):\\n சம்மட்டியுரு (malleus)\\n பட்டையுரு (incus) \\n ஏந்தியுரு (stapes)\\nதொண்டையில் (1):\\n தொண்டை எலும்பு (நாவடி எலும்பு) (hyoid)\\nதோள் பட்டையில் (4):\\n 25. காறை எலும்பு (clavicle)\\n 29. தோள் எலும்பு (scapula)\\nமார்புக்கூட்டில் thorax(25): \\n 10. மார்பெலும்பு (sternum) (1)\\n மேலும் மூன்று என்புகளாகக் கருதப்படலாம்: பிடியுரு (manubrium), உடல் மார்பெலும்பு (body of sternum), வாள்வடிவ நீட்டம் (xiphoid process)\\n 28. விலா எலும்புகள் (rib) (24)\\n முதுகெலும்புத் தூண் (vertebral column) (33): \\n 8. கழுத்து முள்ளெலும்புகள் (cervical vertebra) (7)\\n மார்பு முள்ளெலும்புகள் (thoracic vertebra) (12)\\n 14. நாரிமுள்ளெலும்புகள் (lumbar vertebra) (5)\\n 16. திரிகம் (திருவெலும்பு) (sacrum)\\n வால் எலும்பு (குயிலலகு) (coccyx)\\nமேற்கைகளில் (arm) (1): \\n 11. புய எலும்பு (மேல்கை எலும்பு) (humerus)\\n 26. புய எலும்புப் புடைப்பு (மேல்கை எலும்புப் புடைப்பு) (condyles of humerus)\\nமுன்கைகளில் (forearm) (4): \\n 12. அரந்தி (ulna) (2)\\n 13. ஆரை எலும்பு (radius) (2)\\n 27. ஆரை எலும்புத் தலை (head of radius)\\nகைகளில் (hand) (54): \\n மணிக்கட்டுகள் (carpal):\\n படகெலும்பு (scaphoid) (2)\\n பிறைக்குழி எலும்பு (lunate) (2)\\n முப்பட்டை எலும்புtriquetrum) (2)\\n பட்டாணி எலும்பு (pisiform) (2)\\n சரிவக எலும்பு (trapezium) (2)\\n நாற்புறவுரு எலும்பு (trapezoid) (2)\\n தலையுரு எலும்பு (capitate) (2)\\n கொக்கி எலும்பு (hamate) (2)\\n அங்கை முன்னெலும்புகள் (அனுமணிக்கட்டு எலும்புகள்) (metacarpal): (5 × 2)\\n விரலெலும்புகள் (phalange): \\n அண்மை விரலெலும்புகள் (proximal phalanges) (5 × 2)\\n நடு விரலெலும்புகள் (Intermediate phalanges) (4 × 2)\\n தொலை விரலெலும்புகள் (distal phalanges) (5 × 2)\\nஇடுப்பு வளையம் (pelvis) (2):\\n 15. இடுப்பெலும்பு (ilium) மற்றும் கீழ் இடுப்பெலும்பு (ischium)\\n\\n\\nகால்கள் (leg) (8): \\n 18. தொடையெலும்பு (femur) (2)\\n 17. இடுப்பு மூட்டு (hip joint) (மூட்டு, எலும்பல்ல) \\n 22. பெரிய தொடையெலும்புக் கொண்டை (greater trochanter of femur)\\n 23. தொடையெலும்புப் புடைப்பு (condyles of femur)\\n 19. சில்லெலும்பு (patella) (2)\\n 20. கால் முன்னெலும்பு (கணைக்காலலுள்ளெலும்பு) (tibia) (2)\\n 21. சிம்பு எலும்பு (கணைக்கால்வெளியெலும்பு) (fibula) (2)\\nகாலடிகளில் (52): \\n கணுக்காலெலும்புகள் (tarsal):\\n குதிகால் (calcaneus) (2)\\n முட்டி (talus) (2)\\n படகுரு எலும்பு (navicular bone) (2)\\n உள் ஆப்புவடிவ எலும்பு (2) \\n இடை ஆப்புவடிவ எலும்பு (2)\\n வெளி ஆப்புவடிவ எலும்பு (2)\\n கனசதுர எலும்பு (cuboidal bone) (2)\\n அனுகணுக்காலெலும்புகள் (metatarsal) (5 × 2)\\n விரலெலும்புகள் (phalange):\\n அண்மை விரலெலும்புகள் (proximal phalanges) (5 × 2)\\n நடு விரலெலும்புகள் (intermediate phalanges) (4 × 2)\\n தொலை விரலெலும்புகள் (distal phalanges) (5 × 2)\\n குழந்தை எலும்புக்கூடு \\nகுழந்தைகளின் எலும்புக்கூடுகளில் கீழ் வரும் எலும்புகள் மேலதிகமாக உள்ளன:\\n மண்டையறை மற்றும் மண்டையோட்டு எலும்புகள் (21), இவை ஒன்றாகி மண்டையறையை உருவாக்குகின்றன.\\n திரிக முள்ளெலும்புகள் (sacral vertebrae) (4 or 5), வளர்ந்தோரில் இவை ஒன்றாகி திரிகத்தை உருவாக்குகின்றன \\n coccygeal vertebrae (3 to 5), வளர்ந்தோரில் இவை ஒன்றாகி வாலெலும்பை உருவாக்குகின்றன\\n இடுப்பெலும்பு, கீழ் இடுப்பெலும்பு மற்றும் பொச்செலும்பு (pubis), என்பவை வளர்ந்தோரில் ஒன்றாகி இடுப்பெலும்பை உருவாக்குகின்றன\\n\\nபகுப்பு:மனித உடற்கூற்றியல்\\nபகுப்பு:எலும்புகள்\"]\n",
    "res = [[id, context]]"
   ]
  },
  {
   "cell_type": "code",
   "execution_count": null,
   "metadata": {},
   "outputs": [],
   "source": [
    "for id, context in res:\n",
    "        emb = encode(context)\n",
    "        indexs = []\n",
    "        ids = []\n",
    "        for i in range(len(emb)):\n",
    "            indexs.append(index)\n",
    "            index+=1  \n",
    "            ids.append(id)\n",
    "        print(emb, indexs, ids)"
   ]
  }
 ],
 "metadata": {
  "interpreter": {
   "hash": "2043299c89c8cd0b4d1a6f5cf4529bd58e6a4e0fe3181a25e0d328c821cdc5c5"
  },
  "kernelspec": {
   "display_name": "Python 3.9.7 ('base')",
   "language": "python",
   "name": "python3"
  },
  "language_info": {
   "codemirror_mode": {
    "name": "ipython",
    "version": 3
   },
   "file_extension": ".py",
   "mimetype": "text/x-python",
   "name": "python",
   "nbconvert_exporter": "python",
   "pygments_lexer": "ipython3",
   "version": "3.9.7"
  },
  "orig_nbformat": 4
 },
 "nbformat": 4,
 "nbformat_minor": 2
}
