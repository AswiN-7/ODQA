{
 "cells": [
  {
   "cell_type": "code",
   "execution_count": 1,
   "metadata": {},
   "outputs": [],
   "source": [
    "from pymilvus import Milvus, DataType\n"
   ]
  },
  {
   "cell_type": "code",
   "execution_count": 2,
   "metadata": {},
   "outputs": [],
   "source": [
    "from pymilvus import connections, FieldSchema, CollectionSchema, DataType, Collection, utility\n"
   ]
  },
  {
   "cell_type": "code",
   "execution_count": 7,
   "metadata": {},
   "outputs": [],
   "source": [
    "# connections.connect()\n",
    "connections.connect(\n",
    "  alias=\"default\", \n",
    "  host='localhost', \n",
    "  port='19530'\n",
    ")\n"
   ]
  },
  {
   "cell_type": "code",
   "execution_count": 8,
   "metadata": {},
   "outputs": [
    {
     "data": {
      "text/plain": [
       "<pymilvus.orm.connections.Connections at 0x7f70d4177fa0>"
      ]
     },
     "execution_count": 8,
     "metadata": {},
     "output_type": "execute_result"
    }
   ],
   "source": [
    "connections"
   ]
  },
  {
   "cell_type": "code",
   "execution_count": 6,
   "metadata": {},
   "outputs": [
    {
     "ename": "KeyboardInterrupt",
     "evalue": "",
     "output_type": "error",
     "traceback": [
      "\u001b[0;31m---------------------------------------------------------------------------\u001b[0m",
      "\u001b[0;31mKeyboardInterrupt\u001b[0m                         Traceback (most recent call last)",
      "\u001b[1;32m/home/cts-16/Desktop/aswin/milvus/ODQA.ipynb Cell 4'\u001b[0m in \u001b[0;36m<cell line: 4>\u001b[0;34m()\u001b[0m\n\u001b[1;32m      <a href='vscode-notebook-cell:/home/cts-16/Desktop/aswin/milvus/ODQA.ipynb#ch0000003?line=0'>1</a>\u001b[0m TABLE_NAME \u001b[39m=\u001b[39m \u001b[39m'\u001b[39m\u001b[39mquestion_answering\u001b[39m\u001b[39m'\u001b[39m\n\u001b[1;32m      <a href='vscode-notebook-cell:/home/cts-16/Desktop/aswin/milvus/ODQA.ipynb#ch0000003?line=2'>3</a>\u001b[0m \u001b[39m#Deleting previouslny stored table for clean run\u001b[39;00m\n\u001b[0;32m----> <a href='vscode-notebook-cell:/home/cts-16/Desktop/aswin/milvus/ODQA.ipynb#ch0000003?line=3'>4</a>\u001b[0m \u001b[39mif\u001b[39;00m utility\u001b[39m.\u001b[39;49mhas_collection(TABLE_NAME):\n\u001b[1;32m      <a href='vscode-notebook-cell:/home/cts-16/Desktop/aswin/milvus/ODQA.ipynb#ch0000003?line=4'>5</a>\u001b[0m     collection \u001b[39m=\u001b[39m Collection(name\u001b[39m=\u001b[39mTABLE_NAME)\n\u001b[1;32m      <a href='vscode-notebook-cell:/home/cts-16/Desktop/aswin/milvus/ODQA.ipynb#ch0000003?line=5'>6</a>\u001b[0m     collection\u001b[39m.\u001b[39mdrop()\n",
      "File \u001b[0;32m~/Desktop/aswin/milvus/milv/lib/python3.8/site-packages/pymilvus/orm/utility.py:354\u001b[0m, in \u001b[0;36mhas_collection\u001b[0;34m(collection_name, using)\u001b[0m\n\u001b[1;32m    <a href='file:///home/cts-16/Desktop/aswin/milvus/milv/lib/python3.8/site-packages/pymilvus/orm/utility.py?line=333'>334</a>\u001b[0m \u001b[39mdef\u001b[39;00m \u001b[39mhas_collection\u001b[39m(collection_name, using\u001b[39m=\u001b[39m\u001b[39m\"\u001b[39m\u001b[39mdefault\u001b[39m\u001b[39m\"\u001b[39m):\n\u001b[1;32m    <a href='file:///home/cts-16/Desktop/aswin/milvus/milv/lib/python3.8/site-packages/pymilvus/orm/utility.py?line=334'>335</a>\u001b[0m     \u001b[39m\"\"\"\u001b[39;00m\n\u001b[1;32m    <a href='file:///home/cts-16/Desktop/aswin/milvus/milv/lib/python3.8/site-packages/pymilvus/orm/utility.py?line=335'>336</a>\u001b[0m \u001b[39m    Checks whether a specified collection exists.\u001b[39;00m\n\u001b[1;32m    <a href='file:///home/cts-16/Desktop/aswin/milvus/milv/lib/python3.8/site-packages/pymilvus/orm/utility.py?line=336'>337</a>\u001b[0m \n\u001b[0;32m   (...)\u001b[0m\n\u001b[1;32m    <a href='file:///home/cts-16/Desktop/aswin/milvus/milv/lib/python3.8/site-packages/pymilvus/orm/utility.py?line=351'>352</a>\u001b[0m \u001b[39m        >>> utility.has_collection(\"test_collection\")\u001b[39;00m\n\u001b[1;32m    <a href='file:///home/cts-16/Desktop/aswin/milvus/milv/lib/python3.8/site-packages/pymilvus/orm/utility.py?line=352'>353</a>\u001b[0m \u001b[39m    \"\"\"\u001b[39;00m\n\u001b[0;32m--> <a href='file:///home/cts-16/Desktop/aswin/milvus/milv/lib/python3.8/site-packages/pymilvus/orm/utility.py?line=353'>354</a>\u001b[0m     \u001b[39mreturn\u001b[39;00m _get_connection(using)\u001b[39m.\u001b[39;49mhas_collection(collection_name)\n",
      "File \u001b[0;32m~/Desktop/aswin/milvus/milv/lib/python3.8/site-packages/pymilvus/decorators.py:41\u001b[0m, in \u001b[0;36mretry_on_rpc_failure.<locals>.wrapper.<locals>.handler\u001b[0;34m(self, *args, **kwargs)\u001b[0m\n\u001b[1;32m     <a href='file:///home/cts-16/Desktop/aswin/milvus/milv/lib/python3.8/site-packages/pymilvus/decorators.py?line=38'>39</a>\u001b[0m \u001b[39mwhile\u001b[39;00m \u001b[39mTrue\u001b[39;00m:\n\u001b[1;32m     <a href='file:///home/cts-16/Desktop/aswin/milvus/milv/lib/python3.8/site-packages/pymilvus/decorators.py?line=39'>40</a>\u001b[0m     \u001b[39mtry\u001b[39;00m:\n\u001b[0;32m---> <a href='file:///home/cts-16/Desktop/aswin/milvus/milv/lib/python3.8/site-packages/pymilvus/decorators.py?line=40'>41</a>\u001b[0m         \u001b[39mreturn\u001b[39;00m func(\u001b[39mself\u001b[39;49m, \u001b[39m*\u001b[39;49margs, \u001b[39m*\u001b[39;49m\u001b[39m*\u001b[39;49mkwargs)\n\u001b[1;32m     <a href='file:///home/cts-16/Desktop/aswin/milvus/milv/lib/python3.8/site-packages/pymilvus/decorators.py?line=41'>42</a>\u001b[0m     \u001b[39mexcept\u001b[39;00m grpc\u001b[39m.\u001b[39mRpcError \u001b[39mas\u001b[39;00m e:\n\u001b[1;32m     <a href='file:///home/cts-16/Desktop/aswin/milvus/milv/lib/python3.8/site-packages/pymilvus/decorators.py?line=42'>43</a>\u001b[0m         \u001b[39m# DEADLINE_EXCEEDED means that the task wat not completed\u001b[39;00m\n\u001b[1;32m     <a href='file:///home/cts-16/Desktop/aswin/milvus/milv/lib/python3.8/site-packages/pymilvus/decorators.py?line=43'>44</a>\u001b[0m         \u001b[39m# UNAVAILABLE means that the service is not reachable currently\u001b[39;00m\n\u001b[1;32m     <a href='file:///home/cts-16/Desktop/aswin/milvus/milv/lib/python3.8/site-packages/pymilvus/decorators.py?line=44'>45</a>\u001b[0m         \u001b[39m# Reference: https://grpc.github.io/grpc/python/grpc.html#grpc-status-code\u001b[39;00m\n\u001b[1;32m     <a href='file:///home/cts-16/Desktop/aswin/milvus/milv/lib/python3.8/site-packages/pymilvus/decorators.py?line=45'>46</a>\u001b[0m         \u001b[39mif\u001b[39;00m e\u001b[39m.\u001b[39mcode() \u001b[39m!=\u001b[39m grpc\u001b[39m.\u001b[39mStatusCode\u001b[39m.\u001b[39mDEADLINE_EXCEEDED \u001b[39mand\u001b[39;00m e\u001b[39m.\u001b[39mcode() \u001b[39m!=\u001b[39m grpc\u001b[39m.\u001b[39mStatusCode\u001b[39m.\u001b[39mUNAVAILABLE:\n",
      "File \u001b[0;32m~/Desktop/aswin/milvus/milv/lib/python3.8/site-packages/pymilvus/decorators.py:70\u001b[0m, in \u001b[0;36merror_handler.<locals>.handler\u001b[0;34m(*args, **kwargs)\u001b[0m\n\u001b[1;32m     <a href='file:///home/cts-16/Desktop/aswin/milvus/milv/lib/python3.8/site-packages/pymilvus/decorators.py?line=67'>68</a>\u001b[0m \u001b[39mtry\u001b[39;00m:\n\u001b[1;32m     <a href='file:///home/cts-16/Desktop/aswin/milvus/milv/lib/python3.8/site-packages/pymilvus/decorators.py?line=68'>69</a>\u001b[0m     record_dict[\u001b[39m\"\u001b[39m\u001b[39mRPC start\u001b[39m\u001b[39m\"\u001b[39m] \u001b[39m=\u001b[39m \u001b[39mstr\u001b[39m(datetime\u001b[39m.\u001b[39mdatetime\u001b[39m.\u001b[39mnow())\n\u001b[0;32m---> <a href='file:///home/cts-16/Desktop/aswin/milvus/milv/lib/python3.8/site-packages/pymilvus/decorators.py?line=69'>70</a>\u001b[0m     \u001b[39mreturn\u001b[39;00m func(\u001b[39m*\u001b[39;49margs, \u001b[39m*\u001b[39;49m\u001b[39m*\u001b[39;49mkwargs)\n\u001b[1;32m     <a href='file:///home/cts-16/Desktop/aswin/milvus/milv/lib/python3.8/site-packages/pymilvus/decorators.py?line=70'>71</a>\u001b[0m \u001b[39mexcept\u001b[39;00m \u001b[39mBaseException\u001b[39;00m \u001b[39mas\u001b[39;00m e:\n\u001b[1;32m     <a href='file:///home/cts-16/Desktop/aswin/milvus/milv/lib/python3.8/site-packages/pymilvus/decorators.py?line=71'>72</a>\u001b[0m     record_dict[\u001b[39m\"\u001b[39m\u001b[39mRPC error\u001b[39m\u001b[39m\"\u001b[39m] \u001b[39m=\u001b[39m \u001b[39mstr\u001b[39m(datetime\u001b[39m.\u001b[39mdatetime\u001b[39m.\u001b[39mnow())\n",
      "File \u001b[0;32m~/Desktop/aswin/milvus/milv/lib/python3.8/site-packages/pymilvus/client/grpc_handler.py:165\u001b[0m, in \u001b[0;36mGrpcHandler.has_collection\u001b[0;34m(self, collection_name, timeout, **kwargs)\u001b[0m\n\u001b[1;32m    <a href='file:///home/cts-16/Desktop/aswin/milvus/milv/lib/python3.8/site-packages/pymilvus/client/grpc_handler.py?line=161'>162</a>\u001b[0m request \u001b[39m=\u001b[39m Prepare\u001b[39m.\u001b[39mhas_collection_request(collection_name)\n\u001b[1;32m    <a href='file:///home/cts-16/Desktop/aswin/milvus/milv/lib/python3.8/site-packages/pymilvus/client/grpc_handler.py?line=163'>164</a>\u001b[0m rf \u001b[39m=\u001b[39m \u001b[39mself\u001b[39m\u001b[39m.\u001b[39m_stub\u001b[39m.\u001b[39mHasCollection\u001b[39m.\u001b[39mfuture(request, wait_for_ready\u001b[39m=\u001b[39m\u001b[39mTrue\u001b[39;00m, timeout\u001b[39m=\u001b[39mtimeout)\n\u001b[0;32m--> <a href='file:///home/cts-16/Desktop/aswin/milvus/milv/lib/python3.8/site-packages/pymilvus/client/grpc_handler.py?line=164'>165</a>\u001b[0m reply \u001b[39m=\u001b[39m rf\u001b[39m.\u001b[39;49mresult()\n\u001b[1;32m    <a href='file:///home/cts-16/Desktop/aswin/milvus/milv/lib/python3.8/site-packages/pymilvus/client/grpc_handler.py?line=165'>166</a>\u001b[0m \u001b[39mif\u001b[39;00m reply\u001b[39m.\u001b[39mstatus\u001b[39m.\u001b[39merror_code \u001b[39m==\u001b[39m \u001b[39m0\u001b[39m:\n\u001b[1;32m    <a href='file:///home/cts-16/Desktop/aswin/milvus/milv/lib/python3.8/site-packages/pymilvus/client/grpc_handler.py?line=166'>167</a>\u001b[0m     \u001b[39mreturn\u001b[39;00m reply\u001b[39m.\u001b[39mvalue\n",
      "File \u001b[0;32m~/Desktop/aswin/milvus/milv/lib/python3.8/site-packages/grpc/_channel.py:733\u001b[0m, in \u001b[0;36m_MultiThreadedRendezvous.result\u001b[0;34m(self, timeout)\u001b[0m\n\u001b[1;32m    <a href='file:///home/cts-16/Desktop/aswin/milvus/milv/lib/python3.8/site-packages/grpc/_channel.py?line=727'>728</a>\u001b[0m \u001b[39m\"\"\"Returns the result of the computation or raises its exception.\u001b[39;00m\n\u001b[1;32m    <a href='file:///home/cts-16/Desktop/aswin/milvus/milv/lib/python3.8/site-packages/grpc/_channel.py?line=728'>729</a>\u001b[0m \n\u001b[1;32m    <a href='file:///home/cts-16/Desktop/aswin/milvus/milv/lib/python3.8/site-packages/grpc/_channel.py?line=729'>730</a>\u001b[0m \u001b[39mSee grpc.Future.result for the full API contract.\u001b[39;00m\n\u001b[1;32m    <a href='file:///home/cts-16/Desktop/aswin/milvus/milv/lib/python3.8/site-packages/grpc/_channel.py?line=730'>731</a>\u001b[0m \u001b[39m\"\"\"\u001b[39;00m\n\u001b[1;32m    <a href='file:///home/cts-16/Desktop/aswin/milvus/milv/lib/python3.8/site-packages/grpc/_channel.py?line=731'>732</a>\u001b[0m \u001b[39mwith\u001b[39;00m \u001b[39mself\u001b[39m\u001b[39m.\u001b[39m_state\u001b[39m.\u001b[39mcondition:\n\u001b[0;32m--> <a href='file:///home/cts-16/Desktop/aswin/milvus/milv/lib/python3.8/site-packages/grpc/_channel.py?line=732'>733</a>\u001b[0m     timed_out \u001b[39m=\u001b[39m _common\u001b[39m.\u001b[39;49mwait(\u001b[39mself\u001b[39;49m\u001b[39m.\u001b[39;49m_state\u001b[39m.\u001b[39;49mcondition\u001b[39m.\u001b[39;49mwait,\n\u001b[1;32m    <a href='file:///home/cts-16/Desktop/aswin/milvus/milv/lib/python3.8/site-packages/grpc/_channel.py?line=733'>734</a>\u001b[0m                              \u001b[39mself\u001b[39;49m\u001b[39m.\u001b[39;49m_is_complete,\n\u001b[1;32m    <a href='file:///home/cts-16/Desktop/aswin/milvus/milv/lib/python3.8/site-packages/grpc/_channel.py?line=734'>735</a>\u001b[0m                              timeout\u001b[39m=\u001b[39;49mtimeout)\n\u001b[1;32m    <a href='file:///home/cts-16/Desktop/aswin/milvus/milv/lib/python3.8/site-packages/grpc/_channel.py?line=735'>736</a>\u001b[0m     \u001b[39mif\u001b[39;00m timed_out:\n\u001b[1;32m    <a href='file:///home/cts-16/Desktop/aswin/milvus/milv/lib/python3.8/site-packages/grpc/_channel.py?line=736'>737</a>\u001b[0m         \u001b[39mraise\u001b[39;00m grpc\u001b[39m.\u001b[39mFutureTimeoutError()\n",
      "File \u001b[0;32m~/Desktop/aswin/milvus/milv/lib/python3.8/site-packages/grpc/_common.py:141\u001b[0m, in \u001b[0;36mwait\u001b[0;34m(wait_fn, wait_complete_fn, timeout, spin_cb)\u001b[0m\n\u001b[1;32m    <a href='file:///home/cts-16/Desktop/aswin/milvus/milv/lib/python3.8/site-packages/grpc/_common.py?line=138'>139</a>\u001b[0m \u001b[39mif\u001b[39;00m timeout \u001b[39mis\u001b[39;00m \u001b[39mNone\u001b[39;00m:\n\u001b[1;32m    <a href='file:///home/cts-16/Desktop/aswin/milvus/milv/lib/python3.8/site-packages/grpc/_common.py?line=139'>140</a>\u001b[0m     \u001b[39mwhile\u001b[39;00m \u001b[39mnot\u001b[39;00m wait_complete_fn():\n\u001b[0;32m--> <a href='file:///home/cts-16/Desktop/aswin/milvus/milv/lib/python3.8/site-packages/grpc/_common.py?line=140'>141</a>\u001b[0m         _wait_once(wait_fn, MAXIMUM_WAIT_TIMEOUT, spin_cb)\n\u001b[1;32m    <a href='file:///home/cts-16/Desktop/aswin/milvus/milv/lib/python3.8/site-packages/grpc/_common.py?line=141'>142</a>\u001b[0m \u001b[39melse\u001b[39;00m:\n\u001b[1;32m    <a href='file:///home/cts-16/Desktop/aswin/milvus/milv/lib/python3.8/site-packages/grpc/_common.py?line=142'>143</a>\u001b[0m     end \u001b[39m=\u001b[39m time\u001b[39m.\u001b[39mtime() \u001b[39m+\u001b[39m timeout\n",
      "File \u001b[0;32m~/Desktop/aswin/milvus/milv/lib/python3.8/site-packages/grpc/_common.py:106\u001b[0m, in \u001b[0;36m_wait_once\u001b[0;34m(wait_fn, timeout, spin_cb)\u001b[0m\n\u001b[1;32m    <a href='file:///home/cts-16/Desktop/aswin/milvus/milv/lib/python3.8/site-packages/grpc/_common.py?line=104'>105</a>\u001b[0m \u001b[39mdef\u001b[39;00m \u001b[39m_wait_once\u001b[39m(wait_fn, timeout, spin_cb):\n\u001b[0;32m--> <a href='file:///home/cts-16/Desktop/aswin/milvus/milv/lib/python3.8/site-packages/grpc/_common.py?line=105'>106</a>\u001b[0m     wait_fn(timeout\u001b[39m=\u001b[39;49mtimeout)\n\u001b[1;32m    <a href='file:///home/cts-16/Desktop/aswin/milvus/milv/lib/python3.8/site-packages/grpc/_common.py?line=106'>107</a>\u001b[0m     \u001b[39mif\u001b[39;00m spin_cb \u001b[39mis\u001b[39;00m \u001b[39mnot\u001b[39;00m \u001b[39mNone\u001b[39;00m:\n\u001b[1;32m    <a href='file:///home/cts-16/Desktop/aswin/milvus/milv/lib/python3.8/site-packages/grpc/_common.py?line=107'>108</a>\u001b[0m         spin_cb()\n",
      "File \u001b[0;32m/usr/lib/python3.8/threading.py:306\u001b[0m, in \u001b[0;36mCondition.wait\u001b[0;34m(self, timeout)\u001b[0m\n\u001b[1;32m    <a href='file:///usr/lib/python3.8/threading.py?line=303'>304</a>\u001b[0m \u001b[39melse\u001b[39;00m:\n\u001b[1;32m    <a href='file:///usr/lib/python3.8/threading.py?line=304'>305</a>\u001b[0m     \u001b[39mif\u001b[39;00m timeout \u001b[39m>\u001b[39m \u001b[39m0\u001b[39m:\n\u001b[0;32m--> <a href='file:///usr/lib/python3.8/threading.py?line=305'>306</a>\u001b[0m         gotit \u001b[39m=\u001b[39m waiter\u001b[39m.\u001b[39;49macquire(\u001b[39mTrue\u001b[39;49;00m, timeout)\n\u001b[1;32m    <a href='file:///usr/lib/python3.8/threading.py?line=306'>307</a>\u001b[0m     \u001b[39melse\u001b[39;00m:\n\u001b[1;32m    <a href='file:///usr/lib/python3.8/threading.py?line=307'>308</a>\u001b[0m         gotit \u001b[39m=\u001b[39m waiter\u001b[39m.\u001b[39macquire(\u001b[39mFalse\u001b[39;00m)\n",
      "\u001b[0;31mKeyboardInterrupt\u001b[0m: "
     ]
    }
   ],
   "source": [
    "TABLE_NAME = 'question_answering'\n",
    "\n",
    "#Deleting previouslny stored table for clean run\n",
    "if utility.has_collection(TABLE_NAME):\n",
    "    collection = Collection(name=TABLE_NAME)\n",
    "    collection.drop()\n",
    "\n",
    "field1 = FieldSchema(name=\"id\", dtype=DataType.INT64, descrition=\"int64\", is_primary=True)\n",
    "field2 = FieldSchema(name=\"embedding\", dtype=DataType.FLOAT_VECTOR, descrition=\"float vector\",dim=768, is_primary=False)\n",
    "schema = CollectionSchema(fields=[field1, field2], description=\"collection description\")\n",
    "collection = Collection(name=TABLE_NAME, schema=schema)\n"
   ]
  },
  {
   "cell_type": "code",
   "execution_count": 9,
   "metadata": {},
   "outputs": [
    {
     "ename": "KeyboardInterrupt",
     "evalue": "",
     "output_type": "error",
     "traceback": [
      "\u001b[0;31m---------------------------------------------------------------------------\u001b[0m",
      "\u001b[0;31mKeyboardInterrupt\u001b[0m                         Traceback (most recent call last)",
      "\u001b[1;32m/home/cts-16/Desktop/aswin/milvus/ODQA.ipynb Cell 6'\u001b[0m in \u001b[0;36m<cell line: 2>\u001b[0;34m()\u001b[0m\n\u001b[1;32m      <a href='vscode-notebook-cell:/home/cts-16/Desktop/aswin/milvus/ODQA.ipynb#ch0000004?line=0'>1</a>\u001b[0m default_index \u001b[39m=\u001b[39m {\u001b[39m\"\u001b[39m\u001b[39mindex_type\u001b[39m\u001b[39m\"\u001b[39m: \u001b[39m\"\u001b[39m\u001b[39mIVF_FLAT\u001b[39m\u001b[39m\"\u001b[39m, \u001b[39m\"\u001b[39m\u001b[39mmetric_type\u001b[39m\u001b[39m\"\u001b[39m: \u001b[39m'\u001b[39m\u001b[39mIP\u001b[39m\u001b[39m'\u001b[39m, \u001b[39m\"\u001b[39m\u001b[39mparams\u001b[39m\u001b[39m\"\u001b[39m: {\u001b[39m\"\u001b[39m\u001b[39mnlist\u001b[39m\u001b[39m\"\u001b[39m: \u001b[39m200\u001b[39m}}\n\u001b[0;32m----> <a href='vscode-notebook-cell:/home/cts-16/Desktop/aswin/milvus/ODQA.ipynb#ch0000004?line=1'>2</a>\u001b[0m collection\u001b[39m.\u001b[39;49mcreate_index(field_name\u001b[39m=\u001b[39;49m\u001b[39m\"\u001b[39;49m\u001b[39membedding\u001b[39;49m\u001b[39m\"\u001b[39;49m, index_params\u001b[39m=\u001b[39;49mdefault_index)\n",
      "File \u001b[0;32m~/Desktop/aswin/milvus/milv/lib/python3.8/site-packages/pymilvus/orm/collection.py:1032\u001b[0m, in \u001b[0;36mCollection.create_index\u001b[0;34m(self, field_name, index_params, timeout, **kwargs)\u001b[0m\n\u001b[1;32m    <a href='file:///home/cts-16/Desktop/aswin/milvus/milv/lib/python3.8/site-packages/pymilvus/orm/collection.py?line=998'>999</a>\u001b[0m \u001b[39m\"\"\"\u001b[39;00m\n\u001b[1;32m   <a href='file:///home/cts-16/Desktop/aswin/milvus/milv/lib/python3.8/site-packages/pymilvus/orm/collection.py?line=999'>1000</a>\u001b[0m \u001b[39mCreates index for a specified field. Return Index Object.\u001b[39;00m\n\u001b[1;32m   <a href='file:///home/cts-16/Desktop/aswin/milvus/milv/lib/python3.8/site-packages/pymilvus/orm/collection.py?line=1000'>1001</a>\u001b[0m \n\u001b[0;32m   (...)\u001b[0m\n\u001b[1;32m   <a href='file:///home/cts-16/Desktop/aswin/milvus/milv/lib/python3.8/site-packages/pymilvus/orm/collection.py?line=1028'>1029</a>\u001b[0m \u001b[39m    <pymilvus.index.Index object at 0x7f44355a1460>\u001b[39;00m\n\u001b[1;32m   <a href='file:///home/cts-16/Desktop/aswin/milvus/milv/lib/python3.8/site-packages/pymilvus/orm/collection.py?line=1029'>1030</a>\u001b[0m \u001b[39m\"\"\"\u001b[39;00m\n\u001b[1;32m   <a href='file:///home/cts-16/Desktop/aswin/milvus/milv/lib/python3.8/site-packages/pymilvus/orm/collection.py?line=1030'>1031</a>\u001b[0m conn \u001b[39m=\u001b[39m \u001b[39mself\u001b[39m\u001b[39m.\u001b[39m_get_connection()\n\u001b[0;32m-> <a href='file:///home/cts-16/Desktop/aswin/milvus/milv/lib/python3.8/site-packages/pymilvus/orm/collection.py?line=1031'>1032</a>\u001b[0m \u001b[39mreturn\u001b[39;00m conn\u001b[39m.\u001b[39;49mcreate_index(\u001b[39mself\u001b[39;49m\u001b[39m.\u001b[39;49m_name, field_name, index_params,\n\u001b[1;32m   <a href='file:///home/cts-16/Desktop/aswin/milvus/milv/lib/python3.8/site-packages/pymilvus/orm/collection.py?line=1032'>1033</a>\u001b[0m                          timeout\u001b[39m=\u001b[39;49mtimeout, \u001b[39m*\u001b[39;49m\u001b[39m*\u001b[39;49mkwargs)\n",
      "File \u001b[0;32m~/Desktop/aswin/milvus/milv/lib/python3.8/site-packages/pymilvus/decorators.py:41\u001b[0m, in \u001b[0;36mretry_on_rpc_failure.<locals>.wrapper.<locals>.handler\u001b[0;34m(self, *args, **kwargs)\u001b[0m\n\u001b[1;32m     <a href='file:///home/cts-16/Desktop/aswin/milvus/milv/lib/python3.8/site-packages/pymilvus/decorators.py?line=38'>39</a>\u001b[0m \u001b[39mwhile\u001b[39;00m \u001b[39mTrue\u001b[39;00m:\n\u001b[1;32m     <a href='file:///home/cts-16/Desktop/aswin/milvus/milv/lib/python3.8/site-packages/pymilvus/decorators.py?line=39'>40</a>\u001b[0m     \u001b[39mtry\u001b[39;00m:\n\u001b[0;32m---> <a href='file:///home/cts-16/Desktop/aswin/milvus/milv/lib/python3.8/site-packages/pymilvus/decorators.py?line=40'>41</a>\u001b[0m         \u001b[39mreturn\u001b[39;00m func(\u001b[39mself\u001b[39;49m, \u001b[39m*\u001b[39;49margs, \u001b[39m*\u001b[39;49m\u001b[39m*\u001b[39;49mkwargs)\n\u001b[1;32m     <a href='file:///home/cts-16/Desktop/aswin/milvus/milv/lib/python3.8/site-packages/pymilvus/decorators.py?line=41'>42</a>\u001b[0m     \u001b[39mexcept\u001b[39;00m grpc\u001b[39m.\u001b[39mRpcError \u001b[39mas\u001b[39;00m e:\n\u001b[1;32m     <a href='file:///home/cts-16/Desktop/aswin/milvus/milv/lib/python3.8/site-packages/pymilvus/decorators.py?line=42'>43</a>\u001b[0m         \u001b[39m# DEADLINE_EXCEEDED means that the task wat not completed\u001b[39;00m\n\u001b[1;32m     <a href='file:///home/cts-16/Desktop/aswin/milvus/milv/lib/python3.8/site-packages/pymilvus/decorators.py?line=43'>44</a>\u001b[0m         \u001b[39m# UNAVAILABLE means that the service is not reachable currently\u001b[39;00m\n\u001b[1;32m     <a href='file:///home/cts-16/Desktop/aswin/milvus/milv/lib/python3.8/site-packages/pymilvus/decorators.py?line=44'>45</a>\u001b[0m         \u001b[39m# Reference: https://grpc.github.io/grpc/python/grpc.html#grpc-status-code\u001b[39;00m\n\u001b[1;32m     <a href='file:///home/cts-16/Desktop/aswin/milvus/milv/lib/python3.8/site-packages/pymilvus/decorators.py?line=45'>46</a>\u001b[0m         \u001b[39mif\u001b[39;00m e\u001b[39m.\u001b[39mcode() \u001b[39m!=\u001b[39m grpc\u001b[39m.\u001b[39mStatusCode\u001b[39m.\u001b[39mDEADLINE_EXCEEDED \u001b[39mand\u001b[39;00m e\u001b[39m.\u001b[39mcode() \u001b[39m!=\u001b[39m grpc\u001b[39m.\u001b[39mStatusCode\u001b[39m.\u001b[39mUNAVAILABLE:\n",
      "File \u001b[0;32m~/Desktop/aswin/milvus/milv/lib/python3.8/site-packages/pymilvus/decorators.py:70\u001b[0m, in \u001b[0;36merror_handler.<locals>.handler\u001b[0;34m(*args, **kwargs)\u001b[0m\n\u001b[1;32m     <a href='file:///home/cts-16/Desktop/aswin/milvus/milv/lib/python3.8/site-packages/pymilvus/decorators.py?line=67'>68</a>\u001b[0m \u001b[39mtry\u001b[39;00m:\n\u001b[1;32m     <a href='file:///home/cts-16/Desktop/aswin/milvus/milv/lib/python3.8/site-packages/pymilvus/decorators.py?line=68'>69</a>\u001b[0m     record_dict[\u001b[39m\"\u001b[39m\u001b[39mRPC start\u001b[39m\u001b[39m\"\u001b[39m] \u001b[39m=\u001b[39m \u001b[39mstr\u001b[39m(datetime\u001b[39m.\u001b[39mdatetime\u001b[39m.\u001b[39mnow())\n\u001b[0;32m---> <a href='file:///home/cts-16/Desktop/aswin/milvus/milv/lib/python3.8/site-packages/pymilvus/decorators.py?line=69'>70</a>\u001b[0m     \u001b[39mreturn\u001b[39;00m func(\u001b[39m*\u001b[39;49margs, \u001b[39m*\u001b[39;49m\u001b[39m*\u001b[39;49mkwargs)\n\u001b[1;32m     <a href='file:///home/cts-16/Desktop/aswin/milvus/milv/lib/python3.8/site-packages/pymilvus/decorators.py?line=70'>71</a>\u001b[0m \u001b[39mexcept\u001b[39;00m \u001b[39mBaseException\u001b[39;00m \u001b[39mas\u001b[39;00m e:\n\u001b[1;32m     <a href='file:///home/cts-16/Desktop/aswin/milvus/milv/lib/python3.8/site-packages/pymilvus/decorators.py?line=71'>72</a>\u001b[0m     record_dict[\u001b[39m\"\u001b[39m\u001b[39mRPC error\u001b[39m\u001b[39m\"\u001b[39m] \u001b[39m=\u001b[39m \u001b[39mstr\u001b[39m(datetime\u001b[39m.\u001b[39mdatetime\u001b[39m.\u001b[39mnow())\n",
      "File \u001b[0;32m~/Desktop/aswin/milvus/milv/lib/python3.8/site-packages/pymilvus/client/grpc_handler.py:536\u001b[0m, in \u001b[0;36mGrpcHandler.create_index\u001b[0;34m(self, collection_name, field_name, params, timeout, **kwargs)\u001b[0m\n\u001b[1;32m    <a href='file:///home/cts-16/Desktop/aswin/milvus/milv/lib/python3.8/site-packages/pymilvus/client/grpc_handler.py?line=531'>532</a>\u001b[0m             \u001b[39mraise\u001b[39;00m ParamError(\u001b[39m\"\u001b[39m\u001b[39mInvalid metric_type: \u001b[39m\u001b[39m\"\u001b[39m \u001b[39m+\u001b[39m params[\u001b[39m'\u001b[39m\u001b[39mmetric_type\u001b[39m\u001b[39m'\u001b[39m] \u001b[39m+\u001b[39m\n\u001b[1;32m    <a href='file:///home/cts-16/Desktop/aswin/milvus/milv/lib/python3.8/site-packages/pymilvus/client/grpc_handler.py?line=532'>533</a>\u001b[0m                              \u001b[39m\"\u001b[39m\u001b[39m, which does not match the index type: \u001b[39m\u001b[39m\"\u001b[39m \u001b[39m+\u001b[39m params[\u001b[39m'\u001b[39m\u001b[39mindex_type\u001b[39m\u001b[39m'\u001b[39m])\n\u001b[1;32m    <a href='file:///home/cts-16/Desktop/aswin/milvus/milv/lib/python3.8/site-packages/pymilvus/client/grpc_handler.py?line=534'>535</a>\u001b[0m check_index_params(params)\n\u001b[0;32m--> <a href='file:///home/cts-16/Desktop/aswin/milvus/milv/lib/python3.8/site-packages/pymilvus/client/grpc_handler.py?line=535'>536</a>\u001b[0m collection_desc \u001b[39m=\u001b[39m \u001b[39mself\u001b[39;49m\u001b[39m.\u001b[39;49mdescribe_collection(collection_name, timeout\u001b[39m=\u001b[39;49mtimeout, \u001b[39m*\u001b[39;49m\u001b[39m*\u001b[39;49mkwargs)\n\u001b[1;32m    <a href='file:///home/cts-16/Desktop/aswin/milvus/milv/lib/python3.8/site-packages/pymilvus/client/grpc_handler.py?line=536'>537</a>\u001b[0m valid_field \u001b[39m=\u001b[39m \u001b[39mFalse\u001b[39;00m\n\u001b[1;32m    <a href='file:///home/cts-16/Desktop/aswin/milvus/milv/lib/python3.8/site-packages/pymilvus/client/grpc_handler.py?line=537'>538</a>\u001b[0m \u001b[39mfor\u001b[39;00m fields \u001b[39min\u001b[39;00m collection_desc[\u001b[39m\"\u001b[39m\u001b[39mfields\u001b[39m\u001b[39m\"\u001b[39m]:\n",
      "File \u001b[0;32m~/Desktop/aswin/milvus/milv/lib/python3.8/site-packages/pymilvus/decorators.py:41\u001b[0m, in \u001b[0;36mretry_on_rpc_failure.<locals>.wrapper.<locals>.handler\u001b[0;34m(self, *args, **kwargs)\u001b[0m\n\u001b[1;32m     <a href='file:///home/cts-16/Desktop/aswin/milvus/milv/lib/python3.8/site-packages/pymilvus/decorators.py?line=38'>39</a>\u001b[0m \u001b[39mwhile\u001b[39;00m \u001b[39mTrue\u001b[39;00m:\n\u001b[1;32m     <a href='file:///home/cts-16/Desktop/aswin/milvus/milv/lib/python3.8/site-packages/pymilvus/decorators.py?line=39'>40</a>\u001b[0m     \u001b[39mtry\u001b[39;00m:\n\u001b[0;32m---> <a href='file:///home/cts-16/Desktop/aswin/milvus/milv/lib/python3.8/site-packages/pymilvus/decorators.py?line=40'>41</a>\u001b[0m         \u001b[39mreturn\u001b[39;00m func(\u001b[39mself\u001b[39;49m, \u001b[39m*\u001b[39;49margs, \u001b[39m*\u001b[39;49m\u001b[39m*\u001b[39;49mkwargs)\n\u001b[1;32m     <a href='file:///home/cts-16/Desktop/aswin/milvus/milv/lib/python3.8/site-packages/pymilvus/decorators.py?line=41'>42</a>\u001b[0m     \u001b[39mexcept\u001b[39;00m grpc\u001b[39m.\u001b[39mRpcError \u001b[39mas\u001b[39;00m e:\n\u001b[1;32m     <a href='file:///home/cts-16/Desktop/aswin/milvus/milv/lib/python3.8/site-packages/pymilvus/decorators.py?line=42'>43</a>\u001b[0m         \u001b[39m# DEADLINE_EXCEEDED means that the task wat not completed\u001b[39;00m\n\u001b[1;32m     <a href='file:///home/cts-16/Desktop/aswin/milvus/milv/lib/python3.8/site-packages/pymilvus/decorators.py?line=43'>44</a>\u001b[0m         \u001b[39m# UNAVAILABLE means that the service is not reachable currently\u001b[39;00m\n\u001b[1;32m     <a href='file:///home/cts-16/Desktop/aswin/milvus/milv/lib/python3.8/site-packages/pymilvus/decorators.py?line=44'>45</a>\u001b[0m         \u001b[39m# Reference: https://grpc.github.io/grpc/python/grpc.html#grpc-status-code\u001b[39;00m\n\u001b[1;32m     <a href='file:///home/cts-16/Desktop/aswin/milvus/milv/lib/python3.8/site-packages/pymilvus/decorators.py?line=45'>46</a>\u001b[0m         \u001b[39mif\u001b[39;00m e\u001b[39m.\u001b[39mcode() \u001b[39m!=\u001b[39m grpc\u001b[39m.\u001b[39mStatusCode\u001b[39m.\u001b[39mDEADLINE_EXCEEDED \u001b[39mand\u001b[39;00m e\u001b[39m.\u001b[39mcode() \u001b[39m!=\u001b[39m grpc\u001b[39m.\u001b[39mStatusCode\u001b[39m.\u001b[39mUNAVAILABLE:\n",
      "File \u001b[0;32m~/Desktop/aswin/milvus/milv/lib/python3.8/site-packages/pymilvus/decorators.py:70\u001b[0m, in \u001b[0;36merror_handler.<locals>.handler\u001b[0;34m(*args, **kwargs)\u001b[0m\n\u001b[1;32m     <a href='file:///home/cts-16/Desktop/aswin/milvus/milv/lib/python3.8/site-packages/pymilvus/decorators.py?line=67'>68</a>\u001b[0m \u001b[39mtry\u001b[39;00m:\n\u001b[1;32m     <a href='file:///home/cts-16/Desktop/aswin/milvus/milv/lib/python3.8/site-packages/pymilvus/decorators.py?line=68'>69</a>\u001b[0m     record_dict[\u001b[39m\"\u001b[39m\u001b[39mRPC start\u001b[39m\u001b[39m\"\u001b[39m] \u001b[39m=\u001b[39m \u001b[39mstr\u001b[39m(datetime\u001b[39m.\u001b[39mdatetime\u001b[39m.\u001b[39mnow())\n\u001b[0;32m---> <a href='file:///home/cts-16/Desktop/aswin/milvus/milv/lib/python3.8/site-packages/pymilvus/decorators.py?line=69'>70</a>\u001b[0m     \u001b[39mreturn\u001b[39;00m func(\u001b[39m*\u001b[39;49margs, \u001b[39m*\u001b[39;49m\u001b[39m*\u001b[39;49mkwargs)\n\u001b[1;32m     <a href='file:///home/cts-16/Desktop/aswin/milvus/milv/lib/python3.8/site-packages/pymilvus/decorators.py?line=70'>71</a>\u001b[0m \u001b[39mexcept\u001b[39;00m \u001b[39mBaseException\u001b[39;00m \u001b[39mas\u001b[39;00m e:\n\u001b[1;32m     <a href='file:///home/cts-16/Desktop/aswin/milvus/milv/lib/python3.8/site-packages/pymilvus/decorators.py?line=71'>72</a>\u001b[0m     record_dict[\u001b[39m\"\u001b[39m\u001b[39mRPC error\u001b[39m\u001b[39m\"\u001b[39m] \u001b[39m=\u001b[39m \u001b[39mstr\u001b[39m(datetime\u001b[39m.\u001b[39mdatetime\u001b[39m.\u001b[39mnow())\n",
      "File \u001b[0;32m~/Desktop/aswin/milvus/milv/lib/python3.8/site-packages/pymilvus/client/grpc_handler.py:177\u001b[0m, in \u001b[0;36mGrpcHandler.describe_collection\u001b[0;34m(self, collection_name, timeout, **kwargs)\u001b[0m\n\u001b[1;32m    <a href='file:///home/cts-16/Desktop/aswin/milvus/milv/lib/python3.8/site-packages/pymilvus/client/grpc_handler.py?line=174'>175</a>\u001b[0m request \u001b[39m=\u001b[39m Prepare\u001b[39m.\u001b[39mdescribe_collection_request(collection_name)\n\u001b[1;32m    <a href='file:///home/cts-16/Desktop/aswin/milvus/milv/lib/python3.8/site-packages/pymilvus/client/grpc_handler.py?line=175'>176</a>\u001b[0m rf \u001b[39m=\u001b[39m \u001b[39mself\u001b[39m\u001b[39m.\u001b[39m_stub\u001b[39m.\u001b[39mDescribeCollection\u001b[39m.\u001b[39mfuture(request, wait_for_ready\u001b[39m=\u001b[39m\u001b[39mTrue\u001b[39;00m, timeout\u001b[39m=\u001b[39mtimeout)\n\u001b[0;32m--> <a href='file:///home/cts-16/Desktop/aswin/milvus/milv/lib/python3.8/site-packages/pymilvus/client/grpc_handler.py?line=176'>177</a>\u001b[0m response \u001b[39m=\u001b[39m rf\u001b[39m.\u001b[39;49mresult()\n\u001b[1;32m    <a href='file:///home/cts-16/Desktop/aswin/milvus/milv/lib/python3.8/site-packages/pymilvus/client/grpc_handler.py?line=177'>178</a>\u001b[0m status \u001b[39m=\u001b[39m response\u001b[39m.\u001b[39mstatus\n\u001b[1;32m    <a href='file:///home/cts-16/Desktop/aswin/milvus/milv/lib/python3.8/site-packages/pymilvus/client/grpc_handler.py?line=179'>180</a>\u001b[0m \u001b[39mif\u001b[39;00m status\u001b[39m.\u001b[39merror_code \u001b[39m==\u001b[39m \u001b[39m0\u001b[39m:\n",
      "File \u001b[0;32m~/Desktop/aswin/milvus/milv/lib/python3.8/site-packages/grpc/_channel.py:733\u001b[0m, in \u001b[0;36m_MultiThreadedRendezvous.result\u001b[0;34m(self, timeout)\u001b[0m\n\u001b[1;32m    <a href='file:///home/cts-16/Desktop/aswin/milvus/milv/lib/python3.8/site-packages/grpc/_channel.py?line=727'>728</a>\u001b[0m \u001b[39m\"\"\"Returns the result of the computation or raises its exception.\u001b[39;00m\n\u001b[1;32m    <a href='file:///home/cts-16/Desktop/aswin/milvus/milv/lib/python3.8/site-packages/grpc/_channel.py?line=728'>729</a>\u001b[0m \n\u001b[1;32m    <a href='file:///home/cts-16/Desktop/aswin/milvus/milv/lib/python3.8/site-packages/grpc/_channel.py?line=729'>730</a>\u001b[0m \u001b[39mSee grpc.Future.result for the full API contract.\u001b[39;00m\n\u001b[1;32m    <a href='file:///home/cts-16/Desktop/aswin/milvus/milv/lib/python3.8/site-packages/grpc/_channel.py?line=730'>731</a>\u001b[0m \u001b[39m\"\"\"\u001b[39;00m\n\u001b[1;32m    <a href='file:///home/cts-16/Desktop/aswin/milvus/milv/lib/python3.8/site-packages/grpc/_channel.py?line=731'>732</a>\u001b[0m \u001b[39mwith\u001b[39;00m \u001b[39mself\u001b[39m\u001b[39m.\u001b[39m_state\u001b[39m.\u001b[39mcondition:\n\u001b[0;32m--> <a href='file:///home/cts-16/Desktop/aswin/milvus/milv/lib/python3.8/site-packages/grpc/_channel.py?line=732'>733</a>\u001b[0m     timed_out \u001b[39m=\u001b[39m _common\u001b[39m.\u001b[39;49mwait(\u001b[39mself\u001b[39;49m\u001b[39m.\u001b[39;49m_state\u001b[39m.\u001b[39;49mcondition\u001b[39m.\u001b[39;49mwait,\n\u001b[1;32m    <a href='file:///home/cts-16/Desktop/aswin/milvus/milv/lib/python3.8/site-packages/grpc/_channel.py?line=733'>734</a>\u001b[0m                              \u001b[39mself\u001b[39;49m\u001b[39m.\u001b[39;49m_is_complete,\n\u001b[1;32m    <a href='file:///home/cts-16/Desktop/aswin/milvus/milv/lib/python3.8/site-packages/grpc/_channel.py?line=734'>735</a>\u001b[0m                              timeout\u001b[39m=\u001b[39;49mtimeout)\n\u001b[1;32m    <a href='file:///home/cts-16/Desktop/aswin/milvus/milv/lib/python3.8/site-packages/grpc/_channel.py?line=735'>736</a>\u001b[0m     \u001b[39mif\u001b[39;00m timed_out:\n\u001b[1;32m    <a href='file:///home/cts-16/Desktop/aswin/milvus/milv/lib/python3.8/site-packages/grpc/_channel.py?line=736'>737</a>\u001b[0m         \u001b[39mraise\u001b[39;00m grpc\u001b[39m.\u001b[39mFutureTimeoutError()\n",
      "File \u001b[0;32m~/Desktop/aswin/milvus/milv/lib/python3.8/site-packages/grpc/_common.py:141\u001b[0m, in \u001b[0;36mwait\u001b[0;34m(wait_fn, wait_complete_fn, timeout, spin_cb)\u001b[0m\n\u001b[1;32m    <a href='file:///home/cts-16/Desktop/aswin/milvus/milv/lib/python3.8/site-packages/grpc/_common.py?line=138'>139</a>\u001b[0m \u001b[39mif\u001b[39;00m timeout \u001b[39mis\u001b[39;00m \u001b[39mNone\u001b[39;00m:\n\u001b[1;32m    <a href='file:///home/cts-16/Desktop/aswin/milvus/milv/lib/python3.8/site-packages/grpc/_common.py?line=139'>140</a>\u001b[0m     \u001b[39mwhile\u001b[39;00m \u001b[39mnot\u001b[39;00m wait_complete_fn():\n\u001b[0;32m--> <a href='file:///home/cts-16/Desktop/aswin/milvus/milv/lib/python3.8/site-packages/grpc/_common.py?line=140'>141</a>\u001b[0m         _wait_once(wait_fn, MAXIMUM_WAIT_TIMEOUT, spin_cb)\n\u001b[1;32m    <a href='file:///home/cts-16/Desktop/aswin/milvus/milv/lib/python3.8/site-packages/grpc/_common.py?line=141'>142</a>\u001b[0m \u001b[39melse\u001b[39;00m:\n\u001b[1;32m    <a href='file:///home/cts-16/Desktop/aswin/milvus/milv/lib/python3.8/site-packages/grpc/_common.py?line=142'>143</a>\u001b[0m     end \u001b[39m=\u001b[39m time\u001b[39m.\u001b[39mtime() \u001b[39m+\u001b[39m timeout\n",
      "File \u001b[0;32m~/Desktop/aswin/milvus/milv/lib/python3.8/site-packages/grpc/_common.py:106\u001b[0m, in \u001b[0;36m_wait_once\u001b[0;34m(wait_fn, timeout, spin_cb)\u001b[0m\n\u001b[1;32m    <a href='file:///home/cts-16/Desktop/aswin/milvus/milv/lib/python3.8/site-packages/grpc/_common.py?line=104'>105</a>\u001b[0m \u001b[39mdef\u001b[39;00m \u001b[39m_wait_once\u001b[39m(wait_fn, timeout, spin_cb):\n\u001b[0;32m--> <a href='file:///home/cts-16/Desktop/aswin/milvus/milv/lib/python3.8/site-packages/grpc/_common.py?line=105'>106</a>\u001b[0m     wait_fn(timeout\u001b[39m=\u001b[39;49mtimeout)\n\u001b[1;32m    <a href='file:///home/cts-16/Desktop/aswin/milvus/milv/lib/python3.8/site-packages/grpc/_common.py?line=106'>107</a>\u001b[0m     \u001b[39mif\u001b[39;00m spin_cb \u001b[39mis\u001b[39;00m \u001b[39mnot\u001b[39;00m \u001b[39mNone\u001b[39;00m:\n\u001b[1;32m    <a href='file:///home/cts-16/Desktop/aswin/milvus/milv/lib/python3.8/site-packages/grpc/_common.py?line=107'>108</a>\u001b[0m         spin_cb()\n",
      "File \u001b[0;32m/usr/lib/python3.8/threading.py:306\u001b[0m, in \u001b[0;36mCondition.wait\u001b[0;34m(self, timeout)\u001b[0m\n\u001b[1;32m    <a href='file:///usr/lib/python3.8/threading.py?line=303'>304</a>\u001b[0m \u001b[39melse\u001b[39;00m:\n\u001b[1;32m    <a href='file:///usr/lib/python3.8/threading.py?line=304'>305</a>\u001b[0m     \u001b[39mif\u001b[39;00m timeout \u001b[39m>\u001b[39m \u001b[39m0\u001b[39m:\n\u001b[0;32m--> <a href='file:///usr/lib/python3.8/threading.py?line=305'>306</a>\u001b[0m         gotit \u001b[39m=\u001b[39m waiter\u001b[39m.\u001b[39;49macquire(\u001b[39mTrue\u001b[39;49;00m, timeout)\n\u001b[1;32m    <a href='file:///usr/lib/python3.8/threading.py?line=306'>307</a>\u001b[0m     \u001b[39melse\u001b[39;00m:\n\u001b[1;32m    <a href='file:///usr/lib/python3.8/threading.py?line=307'>308</a>\u001b[0m         gotit \u001b[39m=\u001b[39m waiter\u001b[39m.\u001b[39macquire(\u001b[39mFalse\u001b[39;00m)\n",
      "\u001b[0;31mKeyboardInterrupt\u001b[0m: "
     ]
    }
   ],
   "source": [
    "default_index = {\"index_type\": \"IVF_FLAT\", \"metric_type\": 'IP', \"params\": {\"nlist\": 200}}\n",
    "collection.create_index(field_name=\"embedding\", index_params=default_index)"
   ]
  },
  {
   "cell_type": "markdown",
   "metadata": {},
   "source": [
    "# transformer"
   ]
  },
  {
   "cell_type": "code",
   "execution_count": 7,
   "metadata": {},
   "outputs": [
    {
     "name": "stdout",
     "output_type": "stream",
     "text": [
      "Requirement already satisfied: tqdm in ./milv/lib/python3.8/site-packages (4.64.0)\n"
     ]
    }
   ],
   "source": [
    "# !pip install --upgrade pip\n",
    "# !pip install transformers\n",
    "# !pip install sentencepiece\n",
    "# !pip3 install torch torchvision torchaudio --extra-index-url https://download.pytorch.org/whl/cpu\n",
    "# !pip install tqdm"
   ]
  },
  {
   "cell_type": "code",
   "execution_count": 20,
   "metadata": {},
   "outputs": [
    {
     "name": "stdout",
     "output_type": "stream",
     "text": [
      "1.11.0+cpu\n"
     ]
    }
   ],
   "source": [
    "import torch\n",
    "print(torch.__version__)\n"
   ]
  },
  {
   "cell_type": "code",
   "execution_count": 8,
   "metadata": {},
   "outputs": [
    {
     "name": "stderr",
     "output_type": "stream",
     "text": [
      "Downloading: 100%|██████████| 129M/129M [00:11<00:00, 11.6MB/s] \n",
      "Some weights of the model checkpoint at ai4bharat/indic-bert were not used when initializing AlbertModel: ['sop_classifier.classifier.weight', 'predictions.LayerNorm.weight', 'predictions.dense.weight', 'predictions.bias', 'predictions.dense.bias', 'predictions.decoder.weight', 'sop_classifier.classifier.bias', 'predictions.decoder.bias', 'predictions.LayerNorm.bias']\n",
      "- This IS expected if you are initializing AlbertModel from the checkpoint of a model trained on another task or with another architecture (e.g. initializing a BertForSequenceClassification model from a BertForPreTraining model).\n",
      "- This IS NOT expected if you are initializing AlbertModel from the checkpoint of a model that you expect to be exactly identical (initializing a BertForSequenceClassification model from a BertForSequenceClassification model).\n"
     ]
    }
   ],
   "source": [
    "from transformers import AutoModel, AutoTokenizer\n",
    "\n",
    "tokenizer = AutoTokenizer.from_pretrained('ai4bharat/indic-bert')\n",
    "model = AutoModel.from_pretrained('ai4bharat/indic-bert')"
   ]
  },
  {
   "cell_type": "code",
   "execution_count": 10,
   "metadata": {},
   "outputs": [],
   "source": [
    "text = \"மனித உடலில் எத்தனை எலும்புகள் உள்ளன?\"\n",
    "tokens =tokenizer(text, truncation=True, padding=\"max_length\", return_tensors=\"pt\", max_length = 512)\n",
    "tokens\n",
    "res = model(**tokens)"
   ]
  },
  {
   "cell_type": "code",
   "execution_count": 21,
   "metadata": {},
   "outputs": [
    {
     "data": {
      "text/plain": [
       "torch.Size([1, 512, 768])"
      ]
     },
     "execution_count": 21,
     "metadata": {},
     "output_type": "execute_result"
    }
   ],
   "source": [
    "res.last_hidden_state.shape"
   ]
  },
  {
   "cell_type": "markdown",
   "metadata": {},
   "source": [
    "## shrink the vector "
   ]
  },
  {
   "cell_type": "code",
   "execution_count": 117,
   "metadata": {},
   "outputs": [],
   "source": [
    "import torch\n",
    "import torch.nn.functional as F\n",
    "\n",
    "#Mean Pooling - Take average of all tokens\n",
    "def mean_pooling(model_output, attention_mask):\n",
    "    token_embeddings = model_output.last_hidden_state #First element of model_output contains all token embeddings\n",
    "    input_mask_expanded = attention_mask.unsqueeze(-1).expand(token_embeddings.size()).float()\n",
    "    return torch.sum(token_embeddings * input_mask_expanded, 1) / torch.clamp(input_mask_expanded.sum(1), min=1e-9)\n",
    "#Encode text\n",
    "def encode(texts):\n",
    "    # Tokenize sentences\n",
    "    encoded_input = tokenizer(texts, padding=True, truncation=True, return_tensors='pt', max_length=512)\n",
    "\n",
    "    # Compute token embeddings\n",
    "    with torch.no_grad():\n",
    "        model_output = model(**encoded_input, return_dict=True)\n",
    "\n",
    "    # Perform pooling\n",
    "    embeddings = mean_pooling(model_output, encoded_input['attention_mask'])\n",
    "\n",
    "    # Normalize embeddings\n",
    "    embeddings = F.normalize(embeddings, p=2, dim=1)\n",
    "    \n",
    "    return embeddings.tolist()\n"
   ]
  },
  {
   "cell_type": "code",
   "execution_count": 118,
   "metadata": {},
   "outputs": [],
   "source": [
    "import pandas as pd"
   ]
  },
  {
   "cell_type": "code",
   "execution_count": 119,
   "metadata": {},
   "outputs": [],
   "source": [
    "fp = r\"tamil_qa.json\"\n",
    "with open(fp, \"r\") as read_file:\n",
    "  qa = pd.read_json(read_file)"
   ]
  },
  {
   "cell_type": "code",
   "execution_count": 121,
   "metadata": {},
   "outputs": [],
   "source": [
    "qa['id'] = [ i for i in range(len(qa))]"
   ]
  },
  {
   "cell_type": "code",
   "execution_count": 122,
   "metadata": {},
   "outputs": [
    {
     "data": {
      "text/html": [
       "<div>\n",
       "<style scoped>\n",
       "    .dataframe tbody tr th:only-of-type {\n",
       "        vertical-align: middle;\n",
       "    }\n",
       "\n",
       "    .dataframe tbody tr th {\n",
       "        vertical-align: top;\n",
       "    }\n",
       "\n",
       "    .dataframe thead th {\n",
       "        text-align: right;\n",
       "    }\n",
       "</style>\n",
       "<table border=\"1\" class=\"dataframe\">\n",
       "  <thead>\n",
       "    <tr style=\"text-align: right;\">\n",
       "      <th></th>\n",
       "      <th>context</th>\n",
       "      <th>question</th>\n",
       "      <th>answer_text</th>\n",
       "      <th>answer_start</th>\n",
       "      <th>id</th>\n",
       "    </tr>\n",
       "  </thead>\n",
       "  <tbody>\n",
       "    <tr>\n",
       "      <th>0</th>\n",
       "      <td>ஒரு சாதாரண வளர்ந்த மனிதனுடைய எலும்புக்கூடு பின...</td>\n",
       "      <td>மனித உடலில் எத்தனை எலும்புகள் உள்ளன?</td>\n",
       "      <td>206</td>\n",
       "      <td>53</td>\n",
       "      <td>0</td>\n",
       "    </tr>\n",
       "    <tr>\n",
       "      <th>1</th>\n",
       "      <td>காளிதாசன் (தேவநாகரி: कालिदास) சமஸ்கிருத இலக்கி...</td>\n",
       "      <td>காளிதாசன் எங்கு பிறந்தார்?</td>\n",
       "      <td>காசுமீரில்</td>\n",
       "      <td>2358</td>\n",
       "      <td>1</td>\n",
       "    </tr>\n",
       "    <tr>\n",
       "      <th>2</th>\n",
       "      <td>சர் அலெக்ஸாண்டர் ஃபிளெமிங் (Sir Alexander Flem...</td>\n",
       "      <td>பென்சிலின் கண்டுபிடித்தவர் யார்?</td>\n",
       "      <td>சர் அலெக்ஸாண்டர் ஃபிளெமிங்</td>\n",
       "      <td>0</td>\n",
       "      <td>2</td>\n",
       "    </tr>\n",
       "    <tr>\n",
       "      <th>3</th>\n",
       "      <td>குழந்தையின் அழுகையை  நிறுத்தவும், தூங்க வைக்கவ...</td>\n",
       "      <td>தமிழ்நாட்டில் குழந்தைகளை தூங்க வைக்க பாடும் பா...</td>\n",
       "      <td>தாலாட்டு</td>\n",
       "      <td>68</td>\n",
       "      <td>3</td>\n",
       "    </tr>\n",
       "    <tr>\n",
       "      <th>4</th>\n",
       "      <td>சூரியக் குடும்பம் \\nசூரியக் குடும்பம் (Solar S...</td>\n",
       "      <td>பூமியின் அருகில் உள்ள விண்மீன் எது?</td>\n",
       "      <td>சூரியனும்</td>\n",
       "      <td>585</td>\n",
       "      <td>4</td>\n",
       "    </tr>\n",
       "    <tr>\n",
       "      <th>...</th>\n",
       "      <td>...</td>\n",
       "      <td>...</td>\n",
       "      <td>...</td>\n",
       "      <td>...</td>\n",
       "      <td>...</td>\n",
       "    </tr>\n",
       "    <tr>\n",
       "      <th>363</th>\n",
       "      <td>இந்திய ரூபாய் நாணயங்கள் (Coins of the Indian r...</td>\n",
       "      <td>இந்திய நாணய சட்டம் எந்த ஆண்டு இயற்றப்பட்டது?</td>\n",
       "      <td>1955 ஆம் ஆண்டு செப்டம்பர்</td>\n",
       "      <td>5154</td>\n",
       "      <td>363</td>\n",
       "    </tr>\n",
       "    <tr>\n",
       "      <th>364</th>\n",
       "      <td>ஜெர்மனி (Germany, [ˈdʒɜːmənɪ]), அல்லது ஜெர்மன்...</td>\n",
       "      <td>ஜெர்மனியில் மிகப்பெரிய மதம் எது?</td>\n",
       "      <td>கிறித்தவத்தை</td>\n",
       "      <td>30737</td>\n",
       "      <td>364</td>\n",
       "    </tr>\n",
       "    <tr>\n",
       "      <th>365</th>\n",
       "      <td>கெய்ரோ (Cairo, அரபு மொழியில்: القاهرة - அல்-கா...</td>\n",
       "      <td>கெய்ரோ நகரத்தின் பரப்பளவு என்ன?</td>\n",
       "      <td>453 square kilometers</td>\n",
       "      <td>1507</td>\n",
       "      <td>365</td>\n",
       "    </tr>\n",
       "    <tr>\n",
       "      <th>366</th>\n",
       "      <td>வாழைப்பழம் (banana) என்பது தாவரவியலில் சதைப்பற...</td>\n",
       "      <td>மிகவும் அரிதான வாழைப்பழம் என்றால் என்ன?</td>\n",
       "      <td>சிங்கன்</td>\n",
       "      <td>7688</td>\n",
       "      <td>366</td>\n",
       "    </tr>\n",
       "    <tr>\n",
       "      <th>367</th>\n",
       "      <td>டாக்கா (Bengali: ঢাকা) வங்காளதேசத்தின் தலைநகரம...</td>\n",
       "      <td>டாக்கா பல்கலைக்கழகம் எந்த ஆண்டு தொடங்கப்பட்டது?</td>\n",
       "      <td>1921</td>\n",
       "      <td>7355</td>\n",
       "      <td>367</td>\n",
       "    </tr>\n",
       "  </tbody>\n",
       "</table>\n",
       "<p>368 rows × 5 columns</p>\n",
       "</div>"
      ],
      "text/plain": [
       "                                               context  \\\n",
       "0    ஒரு சாதாரண வளர்ந்த மனிதனுடைய எலும்புக்கூடு பின...   \n",
       "1    காளிதாசன் (தேவநாகரி: कालिदास) சமஸ்கிருத இலக்கி...   \n",
       "2    சர் அலெக்ஸாண்டர் ஃபிளெமிங் (Sir Alexander Flem...   \n",
       "3    குழந்தையின் அழுகையை  நிறுத்தவும், தூங்க வைக்கவ...   \n",
       "4    சூரியக் குடும்பம் \\nசூரியக் குடும்பம் (Solar S...   \n",
       "..                                                 ...   \n",
       "363  இந்திய ரூபாய் நாணயங்கள் (Coins of the Indian r...   \n",
       "364  ஜெர்மனி (Germany, [ˈdʒɜːmənɪ]), அல்லது ஜெர்மன்...   \n",
       "365  கெய்ரோ (Cairo, அரபு மொழியில்: القاهرة - அல்-கா...   \n",
       "366  வாழைப்பழம் (banana) என்பது தாவரவியலில் சதைப்பற...   \n",
       "367  டாக்கா (Bengali: ঢাকা) வங்காளதேசத்தின் தலைநகரம...   \n",
       "\n",
       "                                              question  \\\n",
       "0                 மனித உடலில் எத்தனை எலும்புகள் உள்ளன?   \n",
       "1                           காளிதாசன் எங்கு பிறந்தார்?   \n",
       "2                     பென்சிலின் கண்டுபிடித்தவர் யார்?   \n",
       "3    தமிழ்நாட்டில் குழந்தைகளை தூங்க வைக்க பாடும் பா...   \n",
       "4                  பூமியின் அருகில் உள்ள விண்மீன் எது?   \n",
       "..                                                 ...   \n",
       "363       இந்திய நாணய சட்டம் எந்த ஆண்டு இயற்றப்பட்டது?   \n",
       "364                   ஜெர்மனியில் மிகப்பெரிய மதம் எது?   \n",
       "365                    கெய்ரோ நகரத்தின் பரப்பளவு என்ன?   \n",
       "366            மிகவும் அரிதான வாழைப்பழம் என்றால் என்ன?   \n",
       "367    டாக்கா பல்கலைக்கழகம் எந்த ஆண்டு தொடங்கப்பட்டது?   \n",
       "\n",
       "                    answer_text  answer_start   id  \n",
       "0                           206            53    0  \n",
       "1                    காசுமீரில்          2358    1  \n",
       "2    சர் அலெக்ஸாண்டர் ஃபிளெமிங்             0    2  \n",
       "3                      தாலாட்டு            68    3  \n",
       "4                     சூரியனும்           585    4  \n",
       "..                          ...           ...  ...  \n",
       "363   1955 ஆம் ஆண்டு செப்டம்பர்          5154  363  \n",
       "364                கிறித்தவத்தை         30737  364  \n",
       "365       453 square kilometers          1507  365  \n",
       "366                     சிங்கன்          7688  366  \n",
       "367                        1921          7355  367  \n",
       "\n",
       "[368 rows x 5 columns]"
      ]
     },
     "execution_count": 122,
     "metadata": {},
     "output_type": "execute_result"
    }
   ],
   "source": [
    "qa"
   ]
  },
  {
   "cell_type": "code",
   "execution_count": 134,
   "metadata": {},
   "outputs": [],
   "source": [
    "contexts = qa['context'].to_list()\n",
    "ids = qa['id'].to_list()\n"
   ]
  },
  {
   "cell_type": "code",
   "execution_count": 135,
   "metadata": {},
   "outputs": [],
   "source": [
    "size = 10"
   ]
  },
  {
   "cell_type": "code",
   "execution_count": null,
   "metadata": {},
   "outputs": [],
   "source": [
    "res = encode(contexts[:size])"
   ]
  },
  {
   "cell_type": "code",
   "execution_count": 136,
   "metadata": {},
   "outputs": [],
   "source": [
    "\"\"\"\n",
    "[[], [[]]]\n",
    "\"\"\"\n",
    "data = [ids[:size], res]"
   ]
  },
  {
   "cell_type": "code",
   "execution_count": 133,
   "metadata": {},
   "outputs": [
    {
     "data": {
      "text/plain": [
       "10"
      ]
     },
     "execution_count": 133,
     "metadata": {},
     "output_type": "execute_result"
    }
   ],
   "source": [
    "len(res)"
   ]
  },
  {
   "cell_type": "code",
   "execution_count": 146,
   "metadata": {},
   "outputs": [
    {
     "data": {
      "text/plain": [
       "(insert count: 10, delete count: 0, upsert count: 0, timestamp: 432815049325150211)"
      ]
     },
     "execution_count": 146,
     "metadata": {},
     "output_type": "execute_result"
    }
   ],
   "source": [
    "mr = collection.insert(data)\n",
    "mr"
   ]
  },
  {
   "cell_type": "code",
   "execution_count": 138,
   "metadata": {},
   "outputs": [],
   "source": [
    "collection.load()"
   ]
  },
  {
   "cell_type": "code",
   "execution_count": 109,
   "metadata": {},
   "outputs": [],
   "source": [
    "search_params = {\"metric_type\": \"L2\", \"params\": {\"nprobe\": 10}}"
   ]
  },
  {
   "cell_type": "code",
   "execution_count": 142,
   "metadata": {},
   "outputs": [],
   "source": [
    "results = collection.search(\n",
    "\tdata=[data[1][1]], \n",
    "\tanns_field=\"embedding\", \n",
    "\tparam=search_params, \n",
    "\tlimit=10, \n",
    "\texpr=None,\n",
    "\tconsistency_level=\"Strong\"\n",
    ")"
   ]
  },
  {
   "cell_type": "code",
   "execution_count": 143,
   "metadata": {},
   "outputs": [
    {
     "name": "stdout",
     "output_type": "stream",
     "text": [
      "['(distance: 0.0, id: 1)', '(distance: 0.06303973495960236, id: 6)', '(distance: 0.06418201327323914, id: 8)', '(distance: 0.14161071181297302, id: 9)', '(distance: 0.16504788398742676, id: 2)', '(distance: 0.20349864661693573, id: 7)', '(distance: 0.22696754336357117, id: 4)', '(distance: 0.242176815867424, id: 3)', '(distance: 0.353226900100708, id: 5)', '(distance: 0.3694557249546051, id: 0)']\n"
     ]
    }
   ],
   "source": [
    "for r in results:\n",
    "    print(r)"
   ]
  },
  {
   "cell_type": "code",
   "execution_count": 107,
   "metadata": {},
   "outputs": [],
   "source": [
    "# query\n",
    "res = collection.query(\n",
    "  expr = \"id <2\", \n",
    "  output_fields = [\"id\"],\n",
    "  consistency_level=\"Strong\"\n",
    ")"
   ]
  },
  {
   "cell_type": "code",
   "execution_count": 113,
   "metadata": {},
   "outputs": [
    {
     "name": "stdout",
     "output_type": "stream",
     "text": [
      "[{'id': 1}]\n"
     ]
    }
   ],
   "source": [
    "print(res)"
   ]
  }
 ],
 "metadata": {
  "interpreter": {
   "hash": "5cf689e064a5b08d633ea4a61cba688fe941e2a62374001487e5fc5605731326"
  },
  "kernelspec": {
   "display_name": "Python 3.8.10 ('milv': venv)",
   "language": "python",
   "name": "python3"
  },
  "language_info": {
   "codemirror_mode": {
    "name": "ipython",
    "version": 3
   },
   "file_extension": ".py",
   "mimetype": "text/x-python",
   "name": "python",
   "nbconvert_exporter": "python",
   "pygments_lexer": "ipython3",
   "version": "3.9.7"
  },
  "orig_nbformat": 4
 },
 "nbformat": 4,
 "nbformat_minor": 2
}
